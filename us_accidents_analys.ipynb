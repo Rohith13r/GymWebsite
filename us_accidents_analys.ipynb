{
  "cells": [
    {
      "cell_type": "markdown",
      "metadata": {
        "id": "view-in-github",
        "colab_type": "text"
      },
      "source": [
        "<a href=\"https://colab.research.google.com/github/Rohith13r/GymWebsite/blob/master/us_accidents_analys.ipynb\" target=\"_parent\"><img src=\"https://colab.research.google.com/assets/colab-badge.svg\" alt=\"Open In Colab\"/></a>"
      ]
    },
    {
      "cell_type": "markdown",
      "metadata": {
        "id": "bZFk4ahg9MbX"
      },
      "source": [
        "# us-accidents-analys\n",
        "\n",
        "Use the \"Run\" button to execute the code."
      ]
    },
    {
      "cell_type": "code",
      "execution_count": null,
      "metadata": {
        "id": "0sKbPorS9Mba"
      },
      "outputs": [],
      "source": [
        "print('Hello World')"
      ]
    },
    {
      "cell_type": "markdown",
      "source": [
        "## us accidents\n",
        "TODO - talk about EDA\n",
        "\n",
        "TODO - talk about the dataset (source, what it contains, how it will be useful)\n",
        "\n",
        "Kaggle\n",
        "informaiton about accidents\n",
        "can use useful to prevent accidents\n",
        "mention that this does not contain data about New York"
      ],
      "metadata": {
        "id": "KGI8LZ-1BAke"
      }
    },
    {
      "cell_type": "code",
      "source": [
        "pip install opendatasets --upgrade --quiet"
      ],
      "metadata": {
        "id": "q8gjBHJ9A_pi"
      },
      "execution_count": 1,
      "outputs": []
    },
    {
      "cell_type": "code",
      "source": [
        "import opendatasets as od\n",
        "\n",
        "download_url = 'https://www.kaggle.com/sobhanmoosavi/us-accidents'\n",
        "\n",
        "od.download(download_url)"
      ],
      "metadata": {
        "colab": {
          "base_uri": "https://localhost:8080/"
        },
        "id": "Zw4UrTlGBI75",
        "outputId": "81e30ca1-c60d-432d-b916-c930a8f8d5cc"
      },
      "execution_count": 2,
      "outputs": [
        {
          "output_type": "stream",
          "name": "stdout",
          "text": [
            "Please provide your Kaggle credentials to download this dataset. Learn more: http://bit.ly/kaggle-creds\n",
            "Your Kaggle username: bheemavarapurohith\n",
            "Your Kaggle Key: ··········\n",
            "Downloading us-accidents.zip to ./us-accidents\n"
          ]
        },
        {
          "output_type": "stream",
          "name": "stderr",
          "text": [
            "100%|██████████| 269M/269M [00:01<00:00, 223MB/s]\n"
          ]
        },
        {
          "output_type": "stream",
          "name": "stdout",
          "text": [
            "\n"
          ]
        }
      ]
    },
    {
      "cell_type": "markdown",
      "source": [],
      "metadata": {
        "id": "0aeqMiWLDPZ4"
      }
    },
    {
      "cell_type": "code",
      "source": [],
      "metadata": {
        "id": "RWnHhfD4JBzA"
      },
      "execution_count": null,
      "outputs": []
    },
    {
      "cell_type": "code",
      "source": [
        "data_filename = '/content/us-accidents/US_Accidents_Dec21_updated.csv'"
      ],
      "metadata": {
        "id": "n2CqapAoFUAO"
      },
      "execution_count": 13,
      "outputs": []
    },
    {
      "cell_type": "markdown",
      "source": [
        "Data Preparation and Cleaning\n",
        "Load the file using Pandas\n",
        "Look at some information about the data & the columns\n",
        "Fix any missing or incorrect values"
      ],
      "metadata": {
        "id": "yNp1NWDvBcK4"
      }
    },
    {
      "cell_type": "code",
      "source": [
        "import pandas as pd"
      ],
      "metadata": {
        "id": "-OsjGYSsBJyZ"
      },
      "execution_count": 4,
      "outputs": []
    },
    {
      "cell_type": "code",
      "source": [
        "df = pd.read_csv(data_filename)"
      ],
      "metadata": {
        "id": "phA9bN0cBwtC"
      },
      "execution_count": 14,
      "outputs": []
    },
    {
      "cell_type": "code",
      "source": [
        "df.head()"
      ],
      "metadata": {
        "colab": {
          "base_uri": "https://localhost:8080/",
          "height": 490
        },
        "id": "1HEBzE0KKQGU",
        "outputId": "f027a366-5ef3-496e-cd47-5cc734858dd9"
      },
      "execution_count": 15,
      "outputs": [
        {
          "output_type": "execute_result",
          "data": {
            "text/plain": [
              "    ID  Severity           Start_Time             End_Time  Start_Lat  \\\n",
              "0  A-1         3  2016-02-08 00:37:08  2016-02-08 06:37:08  40.108910   \n",
              "1  A-2         2  2016-02-08 05:56:20  2016-02-08 11:56:20  39.865420   \n",
              "2  A-3         2  2016-02-08 06:15:39  2016-02-08 12:15:39  39.102660   \n",
              "3  A-4         2  2016-02-08 06:51:45  2016-02-08 12:51:45  41.062130   \n",
              "4  A-5         3  2016-02-08 07:53:43  2016-02-08 13:53:43  39.172393   \n",
              "\n",
              "   Start_Lng    End_Lat    End_Lng  Distance(mi)  \\\n",
              "0 -83.092860  40.112060 -83.031870         3.230   \n",
              "1 -84.062800  39.865010 -84.048730         0.747   \n",
              "2 -84.524680  39.102090 -84.523960         0.055   \n",
              "3 -81.537840  41.062170 -81.535470         0.123   \n",
              "4 -84.492792  39.170476 -84.501798         0.500   \n",
              "\n",
              "                                         Description  ...  Roundabout Station  \\\n",
              "0  Between Sawmill Rd/Exit 20 and OH-315/Olentang...  ...       False   False   \n",
              "1                 At OH-4/OH-235/Exit 41 - Accident.  ...       False   False   \n",
              "2                   At I-71/US-50/Exit 1 - Accident.  ...       False   False   \n",
              "3                    At Dart Ave/Exit 21 - Accident.  ...       False   False   \n",
              "4                 At Mitchell Ave/Exit 6 - Accident.  ...       False   False   \n",
              "\n",
              "    Stop Traffic_Calming Traffic_Signal Turning_Loop Sunrise_Sunset  \\\n",
              "0  False           False          False        False          Night   \n",
              "1  False           False          False        False          Night   \n",
              "2  False           False          False        False          Night   \n",
              "3  False           False          False        False          Night   \n",
              "4  False           False          False        False            Day   \n",
              "\n",
              "  Civil_Twilight Nautical_Twilight Astronomical_Twilight  \n",
              "0          Night             Night                 Night  \n",
              "1          Night             Night                 Night  \n",
              "2          Night             Night                   Day  \n",
              "3          Night               Day                   Day  \n",
              "4            Day               Day                   Day  \n",
              "\n",
              "[5 rows x 47 columns]"
            ],
            "text/html": [
              "\n",
              "  <div id=\"df-8140bef2-0da4-40f6-8770-9bdaf31a3828\">\n",
              "    <div class=\"colab-df-container\">\n",
              "      <div>\n",
              "<style scoped>\n",
              "    .dataframe tbody tr th:only-of-type {\n",
              "        vertical-align: middle;\n",
              "    }\n",
              "\n",
              "    .dataframe tbody tr th {\n",
              "        vertical-align: top;\n",
              "    }\n",
              "\n",
              "    .dataframe thead th {\n",
              "        text-align: right;\n",
              "    }\n",
              "</style>\n",
              "<table border=\"1\" class=\"dataframe\">\n",
              "  <thead>\n",
              "    <tr style=\"text-align: right;\">\n",
              "      <th></th>\n",
              "      <th>ID</th>\n",
              "      <th>Severity</th>\n",
              "      <th>Start_Time</th>\n",
              "      <th>End_Time</th>\n",
              "      <th>Start_Lat</th>\n",
              "      <th>Start_Lng</th>\n",
              "      <th>End_Lat</th>\n",
              "      <th>End_Lng</th>\n",
              "      <th>Distance(mi)</th>\n",
              "      <th>Description</th>\n",
              "      <th>...</th>\n",
              "      <th>Roundabout</th>\n",
              "      <th>Station</th>\n",
              "      <th>Stop</th>\n",
              "      <th>Traffic_Calming</th>\n",
              "      <th>Traffic_Signal</th>\n",
              "      <th>Turning_Loop</th>\n",
              "      <th>Sunrise_Sunset</th>\n",
              "      <th>Civil_Twilight</th>\n",
              "      <th>Nautical_Twilight</th>\n",
              "      <th>Astronomical_Twilight</th>\n",
              "    </tr>\n",
              "  </thead>\n",
              "  <tbody>\n",
              "    <tr>\n",
              "      <th>0</th>\n",
              "      <td>A-1</td>\n",
              "      <td>3</td>\n",
              "      <td>2016-02-08 00:37:08</td>\n",
              "      <td>2016-02-08 06:37:08</td>\n",
              "      <td>40.108910</td>\n",
              "      <td>-83.092860</td>\n",
              "      <td>40.112060</td>\n",
              "      <td>-83.031870</td>\n",
              "      <td>3.230</td>\n",
              "      <td>Between Sawmill Rd/Exit 20 and OH-315/Olentang...</td>\n",
              "      <td>...</td>\n",
              "      <td>False</td>\n",
              "      <td>False</td>\n",
              "      <td>False</td>\n",
              "      <td>False</td>\n",
              "      <td>False</td>\n",
              "      <td>False</td>\n",
              "      <td>Night</td>\n",
              "      <td>Night</td>\n",
              "      <td>Night</td>\n",
              "      <td>Night</td>\n",
              "    </tr>\n",
              "    <tr>\n",
              "      <th>1</th>\n",
              "      <td>A-2</td>\n",
              "      <td>2</td>\n",
              "      <td>2016-02-08 05:56:20</td>\n",
              "      <td>2016-02-08 11:56:20</td>\n",
              "      <td>39.865420</td>\n",
              "      <td>-84.062800</td>\n",
              "      <td>39.865010</td>\n",
              "      <td>-84.048730</td>\n",
              "      <td>0.747</td>\n",
              "      <td>At OH-4/OH-235/Exit 41 - Accident.</td>\n",
              "      <td>...</td>\n",
              "      <td>False</td>\n",
              "      <td>False</td>\n",
              "      <td>False</td>\n",
              "      <td>False</td>\n",
              "      <td>False</td>\n",
              "      <td>False</td>\n",
              "      <td>Night</td>\n",
              "      <td>Night</td>\n",
              "      <td>Night</td>\n",
              "      <td>Night</td>\n",
              "    </tr>\n",
              "    <tr>\n",
              "      <th>2</th>\n",
              "      <td>A-3</td>\n",
              "      <td>2</td>\n",
              "      <td>2016-02-08 06:15:39</td>\n",
              "      <td>2016-02-08 12:15:39</td>\n",
              "      <td>39.102660</td>\n",
              "      <td>-84.524680</td>\n",
              "      <td>39.102090</td>\n",
              "      <td>-84.523960</td>\n",
              "      <td>0.055</td>\n",
              "      <td>At I-71/US-50/Exit 1 - Accident.</td>\n",
              "      <td>...</td>\n",
              "      <td>False</td>\n",
              "      <td>False</td>\n",
              "      <td>False</td>\n",
              "      <td>False</td>\n",
              "      <td>False</td>\n",
              "      <td>False</td>\n",
              "      <td>Night</td>\n",
              "      <td>Night</td>\n",
              "      <td>Night</td>\n",
              "      <td>Day</td>\n",
              "    </tr>\n",
              "    <tr>\n",
              "      <th>3</th>\n",
              "      <td>A-4</td>\n",
              "      <td>2</td>\n",
              "      <td>2016-02-08 06:51:45</td>\n",
              "      <td>2016-02-08 12:51:45</td>\n",
              "      <td>41.062130</td>\n",
              "      <td>-81.537840</td>\n",
              "      <td>41.062170</td>\n",
              "      <td>-81.535470</td>\n",
              "      <td>0.123</td>\n",
              "      <td>At Dart Ave/Exit 21 - Accident.</td>\n",
              "      <td>...</td>\n",
              "      <td>False</td>\n",
              "      <td>False</td>\n",
              "      <td>False</td>\n",
              "      <td>False</td>\n",
              "      <td>False</td>\n",
              "      <td>False</td>\n",
              "      <td>Night</td>\n",
              "      <td>Night</td>\n",
              "      <td>Day</td>\n",
              "      <td>Day</td>\n",
              "    </tr>\n",
              "    <tr>\n",
              "      <th>4</th>\n",
              "      <td>A-5</td>\n",
              "      <td>3</td>\n",
              "      <td>2016-02-08 07:53:43</td>\n",
              "      <td>2016-02-08 13:53:43</td>\n",
              "      <td>39.172393</td>\n",
              "      <td>-84.492792</td>\n",
              "      <td>39.170476</td>\n",
              "      <td>-84.501798</td>\n",
              "      <td>0.500</td>\n",
              "      <td>At Mitchell Ave/Exit 6 - Accident.</td>\n",
              "      <td>...</td>\n",
              "      <td>False</td>\n",
              "      <td>False</td>\n",
              "      <td>False</td>\n",
              "      <td>False</td>\n",
              "      <td>False</td>\n",
              "      <td>False</td>\n",
              "      <td>Day</td>\n",
              "      <td>Day</td>\n",
              "      <td>Day</td>\n",
              "      <td>Day</td>\n",
              "    </tr>\n",
              "  </tbody>\n",
              "</table>\n",
              "<p>5 rows × 47 columns</p>\n",
              "</div>\n",
              "      <button class=\"colab-df-convert\" onclick=\"convertToInteractive('df-8140bef2-0da4-40f6-8770-9bdaf31a3828')\"\n",
              "              title=\"Convert this dataframe to an interactive table.\"\n",
              "              style=\"display:none;\">\n",
              "        \n",
              "  <svg xmlns=\"http://www.w3.org/2000/svg\" height=\"24px\"viewBox=\"0 0 24 24\"\n",
              "       width=\"24px\">\n",
              "    <path d=\"M0 0h24v24H0V0z\" fill=\"none\"/>\n",
              "    <path d=\"M18.56 5.44l.94 2.06.94-2.06 2.06-.94-2.06-.94-.94-2.06-.94 2.06-2.06.94zm-11 1L8.5 8.5l.94-2.06 2.06-.94-2.06-.94L8.5 2.5l-.94 2.06-2.06.94zm10 10l.94 2.06.94-2.06 2.06-.94-2.06-.94-.94-2.06-.94 2.06-2.06.94z\"/><path d=\"M17.41 7.96l-1.37-1.37c-.4-.4-.92-.59-1.43-.59-.52 0-1.04.2-1.43.59L10.3 9.45l-7.72 7.72c-.78.78-.78 2.05 0 2.83L4 21.41c.39.39.9.59 1.41.59.51 0 1.02-.2 1.41-.59l7.78-7.78 2.81-2.81c.8-.78.8-2.07 0-2.86zM5.41 20L4 18.59l7.72-7.72 1.47 1.35L5.41 20z\"/>\n",
              "  </svg>\n",
              "      </button>\n",
              "      \n",
              "  <style>\n",
              "    .colab-df-container {\n",
              "      display:flex;\n",
              "      flex-wrap:wrap;\n",
              "      gap: 12px;\n",
              "    }\n",
              "\n",
              "    .colab-df-convert {\n",
              "      background-color: #E8F0FE;\n",
              "      border: none;\n",
              "      border-radius: 50%;\n",
              "      cursor: pointer;\n",
              "      display: none;\n",
              "      fill: #1967D2;\n",
              "      height: 32px;\n",
              "      padding: 0 0 0 0;\n",
              "      width: 32px;\n",
              "    }\n",
              "\n",
              "    .colab-df-convert:hover {\n",
              "      background-color: #E2EBFA;\n",
              "      box-shadow: 0px 1px 2px rgba(60, 64, 67, 0.3), 0px 1px 3px 1px rgba(60, 64, 67, 0.15);\n",
              "      fill: #174EA6;\n",
              "    }\n",
              "\n",
              "    [theme=dark] .colab-df-convert {\n",
              "      background-color: #3B4455;\n",
              "      fill: #D2E3FC;\n",
              "    }\n",
              "\n",
              "    [theme=dark] .colab-df-convert:hover {\n",
              "      background-color: #434B5C;\n",
              "      box-shadow: 0px 1px 3px 1px rgba(0, 0, 0, 0.15);\n",
              "      filter: drop-shadow(0px 1px 2px rgba(0, 0, 0, 0.3));\n",
              "      fill: #FFFFFF;\n",
              "    }\n",
              "  </style>\n",
              "\n",
              "      <script>\n",
              "        const buttonEl =\n",
              "          document.querySelector('#df-8140bef2-0da4-40f6-8770-9bdaf31a3828 button.colab-df-convert');\n",
              "        buttonEl.style.display =\n",
              "          google.colab.kernel.accessAllowed ? 'block' : 'none';\n",
              "\n",
              "        async function convertToInteractive(key) {\n",
              "          const element = document.querySelector('#df-8140bef2-0da4-40f6-8770-9bdaf31a3828');\n",
              "          const dataTable =\n",
              "            await google.colab.kernel.invokeFunction('convertToInteractive',\n",
              "                                                     [key], {});\n",
              "          if (!dataTable) return;\n",
              "\n",
              "          const docLinkHtml = 'Like what you see? Visit the ' +\n",
              "            '<a target=\"_blank\" href=https://colab.research.google.com/notebooks/data_table.ipynb>data table notebook</a>'\n",
              "            + ' to learn more about interactive tables.';\n",
              "          element.innerHTML = '';\n",
              "          dataTable['output_type'] = 'display_data';\n",
              "          await google.colab.output.renderOutput(dataTable, element);\n",
              "          const docLink = document.createElement('div');\n",
              "          docLink.innerHTML = docLinkHtml;\n",
              "          element.appendChild(docLink);\n",
              "        }\n",
              "      </script>\n",
              "    </div>\n",
              "  </div>\n",
              "  "
            ]
          },
          "metadata": {},
          "execution_count": 15
        }
      ]
    },
    {
      "cell_type": "code",
      "source": [
        "df.info()"
      ],
      "metadata": {
        "colab": {
          "base_uri": "https://localhost:8080/"
        },
        "id": "O6cL9Y55LESX",
        "outputId": "b33c4069-31b8-42b5-bea9-ec13d1ba6ce5"
      },
      "execution_count": 16,
      "outputs": [
        {
          "output_type": "stream",
          "name": "stdout",
          "text": [
            "<class 'pandas.core.frame.DataFrame'>\n",
            "RangeIndex: 2845342 entries, 0 to 2845341\n",
            "Data columns (total 47 columns):\n",
            " #   Column                 Dtype  \n",
            "---  ------                 -----  \n",
            " 0   ID                     object \n",
            " 1   Severity               int64  \n",
            " 2   Start_Time             object \n",
            " 3   End_Time               object \n",
            " 4   Start_Lat              float64\n",
            " 5   Start_Lng              float64\n",
            " 6   End_Lat                float64\n",
            " 7   End_Lng                float64\n",
            " 8   Distance(mi)           float64\n",
            " 9   Description            object \n",
            " 10  Number                 float64\n",
            " 11  Street                 object \n",
            " 12  Side                   object \n",
            " 13  City                   object \n",
            " 14  County                 object \n",
            " 15  State                  object \n",
            " 16  Zipcode                object \n",
            " 17  Country                object \n",
            " 18  Timezone               object \n",
            " 19  Airport_Code           object \n",
            " 20  Weather_Timestamp      object \n",
            " 21  Temperature(F)         float64\n",
            " 22  Wind_Chill(F)          float64\n",
            " 23  Humidity(%)            float64\n",
            " 24  Pressure(in)           float64\n",
            " 25  Visibility(mi)         float64\n",
            " 26  Wind_Direction         object \n",
            " 27  Wind_Speed(mph)        float64\n",
            " 28  Precipitation(in)      float64\n",
            " 29  Weather_Condition      object \n",
            " 30  Amenity                bool   \n",
            " 31  Bump                   bool   \n",
            " 32  Crossing               bool   \n",
            " 33  Give_Way               bool   \n",
            " 34  Junction               bool   \n",
            " 35  No_Exit                bool   \n",
            " 36  Railway                bool   \n",
            " 37  Roundabout             bool   \n",
            " 38  Station                bool   \n",
            " 39  Stop                   bool   \n",
            " 40  Traffic_Calming        bool   \n",
            " 41  Traffic_Signal         bool   \n",
            " 42  Turning_Loop           bool   \n",
            " 43  Sunrise_Sunset         object \n",
            " 44  Civil_Twilight         object \n",
            " 45  Nautical_Twilight      object \n",
            " 46  Astronomical_Twilight  object \n",
            "dtypes: bool(13), float64(13), int64(1), object(20)\n",
            "memory usage: 773.4+ MB\n"
          ]
        }
      ]
    },
    {
      "cell_type": "code",
      "source": [
        "df.describe()"
      ],
      "metadata": {
        "colab": {
          "base_uri": "https://localhost:8080/",
          "height": 364
        },
        "id": "cmr4R0LOLEQN",
        "outputId": "9a34c977-a867-4f94-973a-86a67c39ad77"
      },
      "execution_count": 17,
      "outputs": [
        {
          "output_type": "execute_result",
          "data": {
            "text/plain": [
              "           Severity     Start_Lat     Start_Lng       End_Lat       End_Lng  \\\n",
              "count  2.845342e+06  2.845342e+06  2.845342e+06  2.845342e+06  2.845342e+06   \n",
              "mean   2.137572e+00  3.624520e+01 -9.711463e+01  3.624532e+01 -9.711439e+01   \n",
              "std    4.787216e-01  5.363797e+00  1.831782e+01  5.363873e+00  1.831763e+01   \n",
              "min    1.000000e+00  2.456603e+01 -1.245481e+02  2.456601e+01 -1.245457e+02   \n",
              "25%    2.000000e+00  3.344517e+01 -1.180331e+02  3.344628e+01 -1.180333e+02   \n",
              "50%    2.000000e+00  3.609861e+01 -9.241808e+01  3.609799e+01 -9.241772e+01   \n",
              "75%    2.000000e+00  4.016024e+01 -8.037243e+01  4.016105e+01 -8.037338e+01   \n",
              "max    4.000000e+00  4.900058e+01 -6.711317e+01  4.907500e+01 -6.710924e+01   \n",
              "\n",
              "       Distance(mi)        Number  Temperature(F)  Wind_Chill(F)  \\\n",
              "count  2.845342e+06  1.101431e+06    2.776068e+06   2.375699e+06   \n",
              "mean   7.026779e-01  8.089408e+03    6.179356e+01   5.965823e+01   \n",
              "std    1.560361e+00  1.836009e+04    1.862263e+01   2.116097e+01   \n",
              "min    0.000000e+00  0.000000e+00   -8.900000e+01  -8.900000e+01   \n",
              "25%    5.200000e-02  1.270000e+03    5.000000e+01   4.600000e+01   \n",
              "50%    2.440000e-01  4.007000e+03    6.400000e+01   6.300000e+01   \n",
              "75%    7.640000e-01  9.567000e+03    7.600000e+01   7.600000e+01   \n",
              "max    1.551860e+02  9.999997e+06    1.960000e+02   1.960000e+02   \n",
              "\n",
              "        Humidity(%)  Pressure(in)  Visibility(mi)  Wind_Speed(mph)  \\\n",
              "count  2.772250e+06  2.786142e+06    2.774796e+06     2.687398e+06   \n",
              "mean   6.436545e+01  2.947234e+01    9.099391e+00     7.395044e+00   \n",
              "std    2.287457e+01  1.045286e+00    2.717546e+00     5.527454e+00   \n",
              "min    1.000000e+00  0.000000e+00    0.000000e+00     0.000000e+00   \n",
              "25%    4.800000e+01  2.931000e+01    1.000000e+01     3.500000e+00   \n",
              "50%    6.700000e+01  2.982000e+01    1.000000e+01     7.000000e+00   \n",
              "75%    8.300000e+01  3.001000e+01    1.000000e+01     1.000000e+01   \n",
              "max    1.000000e+02  5.890000e+01    1.400000e+02     1.087000e+03   \n",
              "\n",
              "       Precipitation(in)  \n",
              "count       2.295884e+06  \n",
              "mean        7.016940e-03  \n",
              "std         9.348831e-02  \n",
              "min         0.000000e+00  \n",
              "25%         0.000000e+00  \n",
              "50%         0.000000e+00  \n",
              "75%         0.000000e+00  \n",
              "max         2.400000e+01  "
            ],
            "text/html": [
              "\n",
              "  <div id=\"df-db643611-4059-4e1c-bade-1f8783cf7af0\">\n",
              "    <div class=\"colab-df-container\">\n",
              "      <div>\n",
              "<style scoped>\n",
              "    .dataframe tbody tr th:only-of-type {\n",
              "        vertical-align: middle;\n",
              "    }\n",
              "\n",
              "    .dataframe tbody tr th {\n",
              "        vertical-align: top;\n",
              "    }\n",
              "\n",
              "    .dataframe thead th {\n",
              "        text-align: right;\n",
              "    }\n",
              "</style>\n",
              "<table border=\"1\" class=\"dataframe\">\n",
              "  <thead>\n",
              "    <tr style=\"text-align: right;\">\n",
              "      <th></th>\n",
              "      <th>Severity</th>\n",
              "      <th>Start_Lat</th>\n",
              "      <th>Start_Lng</th>\n",
              "      <th>End_Lat</th>\n",
              "      <th>End_Lng</th>\n",
              "      <th>Distance(mi)</th>\n",
              "      <th>Number</th>\n",
              "      <th>Temperature(F)</th>\n",
              "      <th>Wind_Chill(F)</th>\n",
              "      <th>Humidity(%)</th>\n",
              "      <th>Pressure(in)</th>\n",
              "      <th>Visibility(mi)</th>\n",
              "      <th>Wind_Speed(mph)</th>\n",
              "      <th>Precipitation(in)</th>\n",
              "    </tr>\n",
              "  </thead>\n",
              "  <tbody>\n",
              "    <tr>\n",
              "      <th>count</th>\n",
              "      <td>2.845342e+06</td>\n",
              "      <td>2.845342e+06</td>\n",
              "      <td>2.845342e+06</td>\n",
              "      <td>2.845342e+06</td>\n",
              "      <td>2.845342e+06</td>\n",
              "      <td>2.845342e+06</td>\n",
              "      <td>1.101431e+06</td>\n",
              "      <td>2.776068e+06</td>\n",
              "      <td>2.375699e+06</td>\n",
              "      <td>2.772250e+06</td>\n",
              "      <td>2.786142e+06</td>\n",
              "      <td>2.774796e+06</td>\n",
              "      <td>2.687398e+06</td>\n",
              "      <td>2.295884e+06</td>\n",
              "    </tr>\n",
              "    <tr>\n",
              "      <th>mean</th>\n",
              "      <td>2.137572e+00</td>\n",
              "      <td>3.624520e+01</td>\n",
              "      <td>-9.711463e+01</td>\n",
              "      <td>3.624532e+01</td>\n",
              "      <td>-9.711439e+01</td>\n",
              "      <td>7.026779e-01</td>\n",
              "      <td>8.089408e+03</td>\n",
              "      <td>6.179356e+01</td>\n",
              "      <td>5.965823e+01</td>\n",
              "      <td>6.436545e+01</td>\n",
              "      <td>2.947234e+01</td>\n",
              "      <td>9.099391e+00</td>\n",
              "      <td>7.395044e+00</td>\n",
              "      <td>7.016940e-03</td>\n",
              "    </tr>\n",
              "    <tr>\n",
              "      <th>std</th>\n",
              "      <td>4.787216e-01</td>\n",
              "      <td>5.363797e+00</td>\n",
              "      <td>1.831782e+01</td>\n",
              "      <td>5.363873e+00</td>\n",
              "      <td>1.831763e+01</td>\n",
              "      <td>1.560361e+00</td>\n",
              "      <td>1.836009e+04</td>\n",
              "      <td>1.862263e+01</td>\n",
              "      <td>2.116097e+01</td>\n",
              "      <td>2.287457e+01</td>\n",
              "      <td>1.045286e+00</td>\n",
              "      <td>2.717546e+00</td>\n",
              "      <td>5.527454e+00</td>\n",
              "      <td>9.348831e-02</td>\n",
              "    </tr>\n",
              "    <tr>\n",
              "      <th>min</th>\n",
              "      <td>1.000000e+00</td>\n",
              "      <td>2.456603e+01</td>\n",
              "      <td>-1.245481e+02</td>\n",
              "      <td>2.456601e+01</td>\n",
              "      <td>-1.245457e+02</td>\n",
              "      <td>0.000000e+00</td>\n",
              "      <td>0.000000e+00</td>\n",
              "      <td>-8.900000e+01</td>\n",
              "      <td>-8.900000e+01</td>\n",
              "      <td>1.000000e+00</td>\n",
              "      <td>0.000000e+00</td>\n",
              "      <td>0.000000e+00</td>\n",
              "      <td>0.000000e+00</td>\n",
              "      <td>0.000000e+00</td>\n",
              "    </tr>\n",
              "    <tr>\n",
              "      <th>25%</th>\n",
              "      <td>2.000000e+00</td>\n",
              "      <td>3.344517e+01</td>\n",
              "      <td>-1.180331e+02</td>\n",
              "      <td>3.344628e+01</td>\n",
              "      <td>-1.180333e+02</td>\n",
              "      <td>5.200000e-02</td>\n",
              "      <td>1.270000e+03</td>\n",
              "      <td>5.000000e+01</td>\n",
              "      <td>4.600000e+01</td>\n",
              "      <td>4.800000e+01</td>\n",
              "      <td>2.931000e+01</td>\n",
              "      <td>1.000000e+01</td>\n",
              "      <td>3.500000e+00</td>\n",
              "      <td>0.000000e+00</td>\n",
              "    </tr>\n",
              "    <tr>\n",
              "      <th>50%</th>\n",
              "      <td>2.000000e+00</td>\n",
              "      <td>3.609861e+01</td>\n",
              "      <td>-9.241808e+01</td>\n",
              "      <td>3.609799e+01</td>\n",
              "      <td>-9.241772e+01</td>\n",
              "      <td>2.440000e-01</td>\n",
              "      <td>4.007000e+03</td>\n",
              "      <td>6.400000e+01</td>\n",
              "      <td>6.300000e+01</td>\n",
              "      <td>6.700000e+01</td>\n",
              "      <td>2.982000e+01</td>\n",
              "      <td>1.000000e+01</td>\n",
              "      <td>7.000000e+00</td>\n",
              "      <td>0.000000e+00</td>\n",
              "    </tr>\n",
              "    <tr>\n",
              "      <th>75%</th>\n",
              "      <td>2.000000e+00</td>\n",
              "      <td>4.016024e+01</td>\n",
              "      <td>-8.037243e+01</td>\n",
              "      <td>4.016105e+01</td>\n",
              "      <td>-8.037338e+01</td>\n",
              "      <td>7.640000e-01</td>\n",
              "      <td>9.567000e+03</td>\n",
              "      <td>7.600000e+01</td>\n",
              "      <td>7.600000e+01</td>\n",
              "      <td>8.300000e+01</td>\n",
              "      <td>3.001000e+01</td>\n",
              "      <td>1.000000e+01</td>\n",
              "      <td>1.000000e+01</td>\n",
              "      <td>0.000000e+00</td>\n",
              "    </tr>\n",
              "    <tr>\n",
              "      <th>max</th>\n",
              "      <td>4.000000e+00</td>\n",
              "      <td>4.900058e+01</td>\n",
              "      <td>-6.711317e+01</td>\n",
              "      <td>4.907500e+01</td>\n",
              "      <td>-6.710924e+01</td>\n",
              "      <td>1.551860e+02</td>\n",
              "      <td>9.999997e+06</td>\n",
              "      <td>1.960000e+02</td>\n",
              "      <td>1.960000e+02</td>\n",
              "      <td>1.000000e+02</td>\n",
              "      <td>5.890000e+01</td>\n",
              "      <td>1.400000e+02</td>\n",
              "      <td>1.087000e+03</td>\n",
              "      <td>2.400000e+01</td>\n",
              "    </tr>\n",
              "  </tbody>\n",
              "</table>\n",
              "</div>\n",
              "      <button class=\"colab-df-convert\" onclick=\"convertToInteractive('df-db643611-4059-4e1c-bade-1f8783cf7af0')\"\n",
              "              title=\"Convert this dataframe to an interactive table.\"\n",
              "              style=\"display:none;\">\n",
              "        \n",
              "  <svg xmlns=\"http://www.w3.org/2000/svg\" height=\"24px\"viewBox=\"0 0 24 24\"\n",
              "       width=\"24px\">\n",
              "    <path d=\"M0 0h24v24H0V0z\" fill=\"none\"/>\n",
              "    <path d=\"M18.56 5.44l.94 2.06.94-2.06 2.06-.94-2.06-.94-.94-2.06-.94 2.06-2.06.94zm-11 1L8.5 8.5l.94-2.06 2.06-.94-2.06-.94L8.5 2.5l-.94 2.06-2.06.94zm10 10l.94 2.06.94-2.06 2.06-.94-2.06-.94-.94-2.06-.94 2.06-2.06.94z\"/><path d=\"M17.41 7.96l-1.37-1.37c-.4-.4-.92-.59-1.43-.59-.52 0-1.04.2-1.43.59L10.3 9.45l-7.72 7.72c-.78.78-.78 2.05 0 2.83L4 21.41c.39.39.9.59 1.41.59.51 0 1.02-.2 1.41-.59l7.78-7.78 2.81-2.81c.8-.78.8-2.07 0-2.86zM5.41 20L4 18.59l7.72-7.72 1.47 1.35L5.41 20z\"/>\n",
              "  </svg>\n",
              "      </button>\n",
              "      \n",
              "  <style>\n",
              "    .colab-df-container {\n",
              "      display:flex;\n",
              "      flex-wrap:wrap;\n",
              "      gap: 12px;\n",
              "    }\n",
              "\n",
              "    .colab-df-convert {\n",
              "      background-color: #E8F0FE;\n",
              "      border: none;\n",
              "      border-radius: 50%;\n",
              "      cursor: pointer;\n",
              "      display: none;\n",
              "      fill: #1967D2;\n",
              "      height: 32px;\n",
              "      padding: 0 0 0 0;\n",
              "      width: 32px;\n",
              "    }\n",
              "\n",
              "    .colab-df-convert:hover {\n",
              "      background-color: #E2EBFA;\n",
              "      box-shadow: 0px 1px 2px rgba(60, 64, 67, 0.3), 0px 1px 3px 1px rgba(60, 64, 67, 0.15);\n",
              "      fill: #174EA6;\n",
              "    }\n",
              "\n",
              "    [theme=dark] .colab-df-convert {\n",
              "      background-color: #3B4455;\n",
              "      fill: #D2E3FC;\n",
              "    }\n",
              "\n",
              "    [theme=dark] .colab-df-convert:hover {\n",
              "      background-color: #434B5C;\n",
              "      box-shadow: 0px 1px 3px 1px rgba(0, 0, 0, 0.15);\n",
              "      filter: drop-shadow(0px 1px 2px rgba(0, 0, 0, 0.3));\n",
              "      fill: #FFFFFF;\n",
              "    }\n",
              "  </style>\n",
              "\n",
              "      <script>\n",
              "        const buttonEl =\n",
              "          document.querySelector('#df-db643611-4059-4e1c-bade-1f8783cf7af0 button.colab-df-convert');\n",
              "        buttonEl.style.display =\n",
              "          google.colab.kernel.accessAllowed ? 'block' : 'none';\n",
              "\n",
              "        async function convertToInteractive(key) {\n",
              "          const element = document.querySelector('#df-db643611-4059-4e1c-bade-1f8783cf7af0');\n",
              "          const dataTable =\n",
              "            await google.colab.kernel.invokeFunction('convertToInteractive',\n",
              "                                                     [key], {});\n",
              "          if (!dataTable) return;\n",
              "\n",
              "          const docLinkHtml = 'Like what you see? Visit the ' +\n",
              "            '<a target=\"_blank\" href=https://colab.research.google.com/notebooks/data_table.ipynb>data table notebook</a>'\n",
              "            + ' to learn more about interactive tables.';\n",
              "          element.innerHTML = '';\n",
              "          dataTable['output_type'] = 'display_data';\n",
              "          await google.colab.output.renderOutput(dataTable, element);\n",
              "          const docLink = document.createElement('div');\n",
              "          docLink.innerHTML = docLinkHtml;\n",
              "          element.appendChild(docLink);\n",
              "        }\n",
              "      </script>\n",
              "    </div>\n",
              "  </div>\n",
              "  "
            ]
          },
          "metadata": {},
          "execution_count": 17
        }
      ]
    },
    {
      "cell_type": "code",
      "source": [
        "numerics = ['int16', 'int32', 'int64', 'float16', 'float32', 'float64']\n",
        "\n",
        "numeric_df = df.select_dtypes(include=numerics)\n",
        "len(numeric_df.columns)"
      ],
      "metadata": {
        "colab": {
          "base_uri": "https://localhost:8080/"
        },
        "id": "8Sfi6PNVLEL_",
        "outputId": "9d2b19b1-d2e5-4833-93a2-31dbea1dd194"
      },
      "execution_count": 18,
      "outputs": [
        {
          "output_type": "execute_result",
          "data": {
            "text/plain": [
              "14"
            ]
          },
          "metadata": {},
          "execution_count": 18
        }
      ]
    },
    {
      "cell_type": "code",
      "source": [
        "missing_percentages = df.isna().sum().sort_values(ascending=False) / len(df)\n",
        "missing_percentages"
      ],
      "metadata": {
        "colab": {
          "base_uri": "https://localhost:8080/"
        },
        "id": "y73z5RO6LEJp",
        "outputId": "f2181e31-b345-4030-ba9c-6b20a5e93f70"
      },
      "execution_count": 19,
      "outputs": [
        {
          "output_type": "execute_result",
          "data": {
            "text/plain": [
              "Number                   6.129003e-01\n",
              "Precipitation(in)        1.931079e-01\n",
              "Wind_Chill(F)            1.650568e-01\n",
              "Wind_Speed(mph)          5.550967e-02\n",
              "Wind_Direction           2.592834e-02\n",
              "Humidity(%)              2.568830e-02\n",
              "Weather_Condition        2.482514e-02\n",
              "Visibility(mi)           2.479350e-02\n",
              "Temperature(F)           2.434646e-02\n",
              "Pressure(in)             2.080593e-02\n",
              "Weather_Timestamp        1.783125e-02\n",
              "Airport_Code             3.356011e-03\n",
              "Timezone                 1.285961e-03\n",
              "Nautical_Twilight        1.007612e-03\n",
              "Civil_Twilight           1.007612e-03\n",
              "Sunrise_Sunset           1.007612e-03\n",
              "Astronomical_Twilight    1.007612e-03\n",
              "Zipcode                  4.635647e-04\n",
              "City                     4.814887e-05\n",
              "Street                   7.029032e-07\n",
              "Country                  0.000000e+00\n",
              "Junction                 0.000000e+00\n",
              "Start_Time               0.000000e+00\n",
              "End_Time                 0.000000e+00\n",
              "Start_Lat                0.000000e+00\n",
              "Turning_Loop             0.000000e+00\n",
              "Traffic_Signal           0.000000e+00\n",
              "Traffic_Calming          0.000000e+00\n",
              "Stop                     0.000000e+00\n",
              "Station                  0.000000e+00\n",
              "Roundabout               0.000000e+00\n",
              "Railway                  0.000000e+00\n",
              "No_Exit                  0.000000e+00\n",
              "Crossing                 0.000000e+00\n",
              "Give_Way                 0.000000e+00\n",
              "Bump                     0.000000e+00\n",
              "Amenity                  0.000000e+00\n",
              "Start_Lng                0.000000e+00\n",
              "End_Lat                  0.000000e+00\n",
              "End_Lng                  0.000000e+00\n",
              "Distance(mi)             0.000000e+00\n",
              "Description              0.000000e+00\n",
              "Severity                 0.000000e+00\n",
              "Side                     0.000000e+00\n",
              "County                   0.000000e+00\n",
              "State                    0.000000e+00\n",
              "ID                       0.000000e+00\n",
              "dtype: float64"
            ]
          },
          "metadata": {},
          "execution_count": 19
        }
      ]
    },
    {
      "cell_type": "code",
      "source": [
        "type(missing_percentages)"
      ],
      "metadata": {
        "colab": {
          "base_uri": "https://localhost:8080/"
        },
        "id": "09FwHfdiLEHo",
        "outputId": "52ce270a-8b7e-48c1-fa7e-65668e87f748"
      },
      "execution_count": 20,
      "outputs": [
        {
          "output_type": "execute_result",
          "data": {
            "text/plain": [
              "pandas.core.series.Series"
            ]
          },
          "metadata": {},
          "execution_count": 20
        }
      ]
    },
    {
      "cell_type": "code",
      "source": [
        "missing_percentages[missing_percentages != 0].plot(kind='barh')"
      ],
      "metadata": {
        "colab": {
          "base_uri": "https://localhost:8080/",
          "height": 284
        },
        "id": "izsmkV0HLEDy",
        "outputId": "431bd08a-824d-4aad-ab57-756ecad14e8e"
      },
      "execution_count": 21,
      "outputs": [
        {
          "output_type": "execute_result",
          "data": {
            "text/plain": [
              "<matplotlib.axes._subplots.AxesSubplot at 0x7fa2e5718e10>"
            ]
          },
          "metadata": {},
          "execution_count": 21
        },
        {
          "output_type": "display_data",
          "data": {
            "text/plain": [
              "<Figure size 432x288 with 1 Axes>"
            ],
            "image/png": "[encoded data removed]"
          },
          "metadata": {
            "needs_background": "light"
          }
        }
      ]
    },
    {
      "cell_type": "code",
      "source": [],
      "metadata": {
        "id": "8kUSvmBqLD69"
      },
      "execution_count": null,
      "outputs": []
    },
    {
      "cell_type": "markdown",
      "source": [
        "Exploratory Analysis and Visualization\n",
        "Columns we'll analyze:\n",
        "\n",
        "City\n",
        "Start Time\n",
        "Start Lat, Start Lng\n",
        "Temperature\n",
        "Weather Condition"
      ],
      "metadata": {
        "id": "VcimtBWVBx5B"
      }
    },
    {
      "cell_type": "code",
      "source": [
        "df.columns"
      ],
      "metadata": {
        "colab": {
          "base_uri": "https://localhost:8080/"
        },
        "id": "NPTiqrRyBwo-",
        "outputId": "d80b5599-eb26-4ae7-a9a0-dd9f0aad4765"
      },
      "execution_count": 22,
      "outputs": [
        {
          "output_type": "execute_result",
          "data": {
            "text/plain": [
              "Index(['ID', 'Severity', 'Start_Time', 'End_Time', 'Start_Lat', 'Start_Lng',\n",
              "       'End_Lat', 'End_Lng', 'Distance(mi)', 'Description', 'Number', 'Street',\n",
              "       'Side', 'City', 'County', 'State', 'Zipcode', 'Country', 'Timezone',\n",
              "       'Airport_Code', 'Weather_Timestamp', 'Temperature(F)', 'Wind_Chill(F)',\n",
              "       'Humidity(%)', 'Pressure(in)', 'Visibility(mi)', 'Wind_Direction',\n",
              "       'Wind_Speed(mph)', 'Precipitation(in)', 'Weather_Condition', 'Amenity',\n",
              "       'Bump', 'Crossing', 'Give_Way', 'Junction', 'No_Exit', 'Railway',\n",
              "       'Roundabout', 'Station', 'Stop', 'Traffic_Calming', 'Traffic_Signal',\n",
              "       'Turning_Loop', 'Sunrise_Sunset', 'Civil_Twilight', 'Nautical_Twilight',\n",
              "       'Astronomical_Twilight'],\n",
              "      dtype='object')"
            ]
          },
          "metadata": {},
          "execution_count": 22
        }
      ]
    },
    {
      "cell_type": "markdown",
      "source": [
        "city"
      ],
      "metadata": {
        "id": "8PgN51MkNSgC"
      }
    },
    {
      "cell_type": "code",
      "source": [
        "df.City"
      ],
      "metadata": {
        "colab": {
          "base_uri": "https://localhost:8080/"
        },
        "id": "OFEZRjXOBwmP",
        "outputId": "5222f2dc-aeab-42df-a608-7f274016f407"
      },
      "execution_count": 23,
      "outputs": [
        {
          "output_type": "execute_result",
          "data": {
            "text/plain": [
              "0               Dublin\n",
              "1               Dayton\n",
              "2           Cincinnati\n",
              "3                Akron\n",
              "4           Cincinnati\n",
              "              ...     \n",
              "2845337      Riverside\n",
              "2845338      San Diego\n",
              "2845339         Orange\n",
              "2845340    Culver City\n",
              "2845341       Highland\n",
              "Name: City, Length: 2845342, dtype: object"
            ]
          },
          "metadata": {},
          "execution_count": 23
        }
      ]
    },
    {
      "cell_type": "code",
      "source": [
        "cities = df.City.unique()\n",
        "len(cities)\n"
      ],
      "metadata": {
        "colab": {
          "base_uri": "https://localhost:8080/"
        },
        "id": "dvgLW0hQBwjp",
        "outputId": "546b6af6-917b-4087-8c62-a73e9ada5fbf"
      },
      "execution_count": 24,
      "outputs": [
        {
          "output_type": "execute_result",
          "data": {
            "text/plain": [
              "11682"
            ]
          },
          "metadata": {},
          "execution_count": 24
        }
      ]
    },
    {
      "cell_type": "code",
      "source": [
        "cities_by_accident = df.City.value_counts()\n",
        "cities_by_accident"
      ],
      "metadata": {
        "colab": {
          "base_uri": "https://localhost:8080/"
        },
        "id": "7g00LonvNyIE",
        "outputId": "ae4c19ce-35c4-4324-bc0a-06b1e5e8e0bf"
      },
      "execution_count": 25,
      "outputs": [
        {
          "output_type": "execute_result",
          "data": {
            "text/plain": [
              "Miami                           106966\n",
              "Los Angeles                      68956\n",
              "Orlando                          54691\n",
              "Dallas                           41979\n",
              "Houston                          39448\n",
              "                                 ...  \n",
              "Ridgedale                            1\n",
              "Sekiu                                1\n",
              "Wooldridge                           1\n",
              "Bullock                              1\n",
              "American Fork-Pleasant Grove         1\n",
              "Name: City, Length: 11681, dtype: int64"
            ]
          },
          "metadata": {},
          "execution_count": 25
        }
      ]
    },
    {
      "cell_type": "code",
      "source": [
        "cities_by_accident[:20]"
      ],
      "metadata": {
        "colab": {
          "base_uri": "https://localhost:8080/"
        },
        "id": "IH4aRdF4Nx7F",
        "outputId": "b4a10962-c1c4-42f0-9553-4c69f8155f9a"
      },
      "execution_count": 26,
      "outputs": [
        {
          "output_type": "execute_result",
          "data": {
            "text/plain": [
              "Miami           106966\n",
              "Los Angeles      68956\n",
              "Orlando          54691\n",
              "Dallas           41979\n",
              "Houston          39448\n",
              "Charlotte        33152\n",
              "Sacramento       32559\n",
              "San Diego        26627\n",
              "Raleigh          22840\n",
              "Minneapolis      22768\n",
              "Portland         20944\n",
              "Nashville        20267\n",
              "Austin           18301\n",
              "Baton Rouge      18182\n",
              "Phoenix          17143\n",
              "Saint Paul       16869\n",
              "New Orleans      16251\n",
              "Atlanta          15622\n",
              "Jacksonville     14967\n",
              "Richmond         14349\n",
              "Name: City, dtype: int64"
            ]
          },
          "metadata": {},
          "execution_count": 26
        }
      ]
    },
    {
      "cell_type": "code",
      "source": [],
      "metadata": {
        "id": "uItvQKG3OCW-"
      },
      "execution_count": null,
      "outputs": []
    },
    {
      "cell_type": "code",
      "source": [
        "type(cities_by_accident)"
      ],
      "metadata": {
        "colab": {
          "base_uri": "https://localhost:8080/"
        },
        "id": "5KdU6IZVNxvF",
        "outputId": "e040d2cd-8bc1-4fef-d373-a6be40c1c1f1"
      },
      "execution_count": 27,
      "outputs": [
        {
          "output_type": "execute_result",
          "data": {
            "text/plain": [
              "pandas.core.series.Series"
            ]
          },
          "metadata": {},
          "execution_count": 27
        }
      ]
    },
    {
      "cell_type": "code",
      "source": [
        "cities_by_accident[:20].plot(kind='barh')"
      ],
      "metadata": {
        "colab": {
          "base_uri": "https://localhost:8080/",
          "height": 284
        },
        "id": "pXZKqp0UOE6R",
        "outputId": "34fb0300-2f01-4f27-8373-9846a779750b"
      },
      "execution_count": 28,
      "outputs": [
        {
          "output_type": "execute_result",
          "data": {
            "text/plain": [
              "<matplotlib.axes._subplots.AxesSubplot at 0x7fa2d2cd4c50>"
            ]
          },
          "metadata": {},
          "execution_count": 28
        },
        {
          "output_type": "display_data",
          "data": {
            "text/plain": [
              "<Figure size 432x288 with 1 Axes>"
            ],
            "image/png": "[encoded data removed]"
          },
          "metadata": {
            "needs_background": "light"
          }
        }
      ]
    },
    {
      "cell_type": "code",
      "source": [
        "import seaborn as sns\n",
        "sns.set_style(\"darkgrid\")"
      ],
      "metadata": {
        "id": "3TauOsM8OEnX"
      },
      "execution_count": 29,
      "outputs": []
    },
    {
      "cell_type": "code",
      "source": [
        "sns.histplot(cities_by_accident, log_scale=True)"
      ],
      "metadata": {
        "colab": {
          "base_uri": "https://localhost:8080/",
          "height": 302
        },
        "id": "fLwxfdOyOEZE",
        "outputId": "a85b4cf9-c301-40f0-e33f-e77888f7a5ce"
      },
      "execution_count": 30,
      "outputs": [
        {
          "output_type": "execute_result",
          "data": {
            "text/plain": [
              "<matplotlib.axes._subplots.AxesSubplot at 0x7fa2c693b710>"
            ]
          },
          "metadata": {},
          "execution_count": 30
        },
        {
          "output_type": "display_data",
          "data": {
            "text/plain": [
              "<Figure size 432x288 with 1 Axes>"
            ],
            "image/png": "[encoded data removed]"
          },
          "metadata": {}
        }
      ]
    },
    {
      "cell_type": "code",
      "source": [
        "cities_by_accident[cities_by_accident == 1]"
      ],
      "metadata": {
        "colab": {
          "base_uri": "https://localhost:8080/"
        },
        "id": "fFKe2OqgOUt-",
        "outputId": "b95daafd-9c8d-4292-b40e-835bb06d8df1"
      },
      "execution_count": 31,
      "outputs": [
        {
          "output_type": "execute_result",
          "data": {
            "text/plain": [
              "Carney                          1\n",
              "Waverly Hall                    1\n",
              "Center Sandwich                 1\n",
              "Glen Flora                      1\n",
              "Sulphur Springs                 1\n",
              "                               ..\n",
              "Ridgedale                       1\n",
              "Sekiu                           1\n",
              "Wooldridge                      1\n",
              "Bullock                         1\n",
              "American Fork-Pleasant Grove    1\n",
              "Name: City, Length: 1110, dtype: int64"
            ]
          },
          "metadata": {},
          "execution_count": 31
        }
      ]
    },
    {
      "cell_type": "markdown",
      "source": [
        "start time"
      ],
      "metadata": {
        "id": "tczX9rDPOaK2"
      }
    },
    {
      "cell_type": "code",
      "source": [
        "df.Start_Time"
      ],
      "metadata": {
        "colab": {
          "base_uri": "https://localhost:8080/"
        },
        "id": "Rr5IiD9ROUhU",
        "outputId": "3f274125-82b0-4266-8822-6c512c672e36"
      },
      "execution_count": 32,
      "outputs": [
        {
          "output_type": "execute_result",
          "data": {
            "text/plain": [
              "0          2016-02-08 00:37:08\n",
              "1          2016-02-08 05:56:20\n",
              "2          2016-02-08 06:15:39\n",
              "3          2016-02-08 06:51:45\n",
              "4          2016-02-08 07:53:43\n",
              "                  ...         \n",
              "2845337    2019-08-23 18:03:25\n",
              "2845338    2019-08-23 19:11:30\n",
              "2845339    2019-08-23 19:00:21\n",
              "2845340    2019-08-23 19:00:21\n",
              "2845341    2019-08-23 18:52:06\n",
              "Name: Start_Time, Length: 2845342, dtype: object"
            ]
          },
          "metadata": {},
          "execution_count": 32
        }
      ]
    },
    {
      "cell_type": "code",
      "source": [
        "df.Start_Time = pd.to_datetime(df.Start_Time)"
      ],
      "metadata": {
        "id": "pgeKZHryOUI5"
      },
      "execution_count": 33,
      "outputs": []
    },
    {
      "cell_type": "code",
      "source": [
        "sns.distplot(df.Start_Time.dt.hour, bins=24, kde=False, norm_hist=True)"
      ],
      "metadata": {
        "colab": {
          "base_uri": "https://localhost:8080/",
          "height": 358
        },
        "id": "IB8EteJKOT84",
        "outputId": "f70e3bd5-66c7-44e8-e2f6-824affba1315"
      },
      "execution_count": 34,
      "outputs": [
        {
          "output_type": "stream",
          "name": "stderr",
          "text": [
            "/usr/local/lib/python3.7/dist-packages/seaborn/distributions.py:2619: FutureWarning: `distplot` is a deprecated function and will be removed in a future version. Please adapt your code to use either `displot` (a figure-level function with similar flexibility) or `histplot` (an axes-level function for histograms).\n",
            "  warnings.warn(msg, FutureWarning)\n"
          ]
        },
        {
          "output_type": "execute_result",
          "data": {
            "text/plain": [
              "<matplotlib.axes._subplots.AxesSubplot at 0x7fa2c661a490>"
            ]
          },
          "metadata": {},
          "execution_count": 34
        },
        {
          "output_type": "display_data",
          "data": {
            "text/plain": [
              "<Figure size 432x288 with 1 Axes>"
            ],
            "image/png": "[encoded data removed]"
          },
          "metadata": {}
        }
      ]
    },
    {
      "cell_type": "code",
      "source": [
        "sns.distplot(df.Start_Time.dt.dayofweek, bins=7, kde=False, norm_hist=True)"
      ],
      "metadata": {
        "colab": {
          "base_uri": "https://localhost:8080/",
          "height": 299
        },
        "id": "bW4ElyQuOTxf",
        "outputId": "32335840-98e3-4721-9a58-edbde026e421"
      },
      "execution_count": 36,
      "outputs": [
        {
          "output_type": "execute_result",
          "data": {
            "text/plain": [
              "<matplotlib.axes._subplots.AxesSubplot at 0x7fa2c653b0d0>"
            ]
          },
          "metadata": {},
          "execution_count": 36
        },
        {
          "output_type": "display_data",
          "data": {
            "text/plain": [
              "<Figure size 432x288 with 1 Axes>"
            ],
            "image/png": "[encoded data removed]"
          },
          "metadata": {}
        }
      ]
    },
    {
      "cell_type": "code",
      "source": [
        "sundays_start_time = df.Start_Time[df.Start_Time.dt.dayofweek == 6]\n",
        "sns.distplot(sundays_start_time.dt.hour, bins=12, kde=False, norm_hist=True)"
      ],
      "metadata": {
        "colab": {
          "base_uri": "https://localhost:8080/",
          "height": 299
        },
        "id": "XEre9gewOxYr",
        "outputId": "78ba3949-dce1-4c46-8597-942ee7975a74"
      },
      "execution_count": 45,
      "outputs": [
        {
          "output_type": "execute_result",
          "data": {
            "text/plain": [
              "<matplotlib.axes._subplots.AxesSubplot at 0x7fa2c625ff10>"
            ]
          },
          "metadata": {},
          "execution_count": 45
        },
        {
          "output_type": "display_data",
          "data": {
            "text/plain": [
              "<Figure size 432x288 with 1 Axes>"
            ],
            "image/png": "[encoded data removed]"
          },
          "metadata": {}
        }
      ]
    },
    {
      "cell_type": "code",
      "source": [
        "monday_start_time = df.Start_Time[df.Start_Time.dt.dayofweek == 0]\n",
        "sns.distplot(monday_start_time.dt.hour, bins=12, kde=False, norm_hist=True)"
      ],
      "metadata": {
        "colab": {
          "base_uri": "https://localhost:8080/",
          "height": 299
        },
        "id": "KsFvCuW2OxQJ",
        "outputId": "71ac9ea8-b65d-4a3e-ba22-684f16feef0e"
      },
      "execution_count": 44,
      "outputs": [
        {
          "output_type": "execute_result",
          "data": {
            "text/plain": [
              "<matplotlib.axes._subplots.AxesSubplot at 0x7fa2c62e6b50>"
            ]
          },
          "metadata": {},
          "execution_count": 44
        },
        {
          "output_type": "display_data",
          "data": {
            "text/plain": [
              "<Figure size 432x288 with 1 Axes>"
            ],
            "image/png": "[encoded data removed]"
          },
          "metadata": {}
        }
      ]
    },
    {
      "cell_type": "code",
      "source": [
        "df_2019 = df[df.Start_Time.dt.year == 2019]\n",
        "\n",
        "sns.distplot(df_2019.Start_Time.dt.month, bins=12, kde=False, norm_hist=True)"
      ],
      "metadata": {
        "id": "vcqNE6IhTynH",
        "outputId": "3ff1aca2-d3a6-4a3a-ff51-403544feb55b",
        "colab": {
          "base_uri": "https://localhost:8080/",
          "height": 299
        }
      },
      "execution_count": 48,
      "outputs": [
        {
          "output_type": "execute_result",
          "data": {
            "text/plain": [
              "<matplotlib.axes._subplots.AxesSubplot at 0x7fa2c61e2210>"
            ]
          },
          "metadata": {},
          "execution_count": 48
        },
        {
          "output_type": "display_data",
          "data": {
            "text/plain": [
              "<Figure size 432x288 with 1 Axes>"
            ],
            "image/png": "[encoded data removed]"
          },
          "metadata": {}
        }
      ]
    },
    {
      "cell_type": "code",
      "source": [
        "df.Start_Lat"
      ],
      "metadata": {
        "id": "VrlPs-GwTyfP",
        "outputId": "5dbf96eb-fc4a-48dc-f633-a41341ac72f2",
        "colab": {
          "base_uri": "https://localhost:8080/"
        }
      },
      "execution_count": 51,
      "outputs": [
        {
          "output_type": "execute_result",
          "data": {
            "text/plain": [
              "0          40.108910\n",
              "1          39.865420\n",
              "2          39.102660\n",
              "3          41.062130\n",
              "4          39.172393\n",
              "             ...    \n",
              "2845337    34.002480\n",
              "2845338    32.766960\n",
              "2845339    33.775450\n",
              "2845340    33.992460\n",
              "2845341    34.133930\n",
              "Name: Start_Lat, Length: 2845342, dtype: float64"
            ]
          },
          "metadata": {},
          "execution_count": 51
        }
      ]
    },
    {
      "cell_type": "code",
      "source": [
        "df.Start_Lng"
      ],
      "metadata": {
        "id": "pk9ZxoFXbOsv",
        "outputId": "3c940567-af5a-41e4-c712-289c0ba6325c",
        "colab": {
          "base_uri": "https://localhost:8080/"
        }
      },
      "execution_count": 52,
      "outputs": [
        {
          "output_type": "execute_result",
          "data": {
            "text/plain": [
              "0          -83.092860\n",
              "1          -84.062800\n",
              "2          -84.524680\n",
              "3          -81.537840\n",
              "4          -84.492792\n",
              "              ...    \n",
              "2845337   -117.379360\n",
              "2845338   -117.148060\n",
              "2845339   -117.847790\n",
              "2845340   -118.403020\n",
              "2845341   -117.230920\n",
              "Name: Start_Lng, Length: 2845342, dtype: float64"
            ]
          },
          "metadata": {},
          "execution_count": 52
        }
      ]
    },
    {
      "cell_type": "code",
      "source": [
        "sample_df = df.sample(int(0.1 * len(df)))"
      ],
      "metadata": {
        "id": "KVUfi0ynbOjQ"
      },
      "execution_count": 53,
      "outputs": []
    },
    {
      "cell_type": "code",
      "source": [
        "sns.scatterplot(x=sample_df.Start_Lng, y=sample_df.Start_Lat, size=0.001)"
      ],
      "metadata": {
        "id": "vIbb9wGnbOfs",
        "outputId": "c883887d-cf23-4fab-bdb5-274bcf9c0e98",
        "colab": {
          "base_uri": "https://localhost:8080/",
          "height": 301
        }
      },
      "execution_count": 54,
      "outputs": [
        {
          "output_type": "execute_result",
          "data": {
            "text/plain": [
              "<matplotlib.axes._subplots.AxesSubplot at 0x7fa2c613e750>"
            ]
          },
          "metadata": {},
          "execution_count": 54
        },
        {
          "output_type": "display_data",
          "data": {
            "text/plain": [
              "<Figure size 432x288 with 1 Axes>"
            ],
            "image/png": "[encoded data removed]"
          },
          "metadata": {}
        }
      ]
    },
    {
      "cell_type": "code",
      "source": [
        "import folium"
      ],
      "metadata": {
        "id": "9uSpbFK6bOcX"
      },
      "execution_count": 55,
      "outputs": []
    },
    {
      "cell_type": "code",
      "source": [
        "lat, lon = df.Start_Lat[0], df.Start_Lng[0]\n",
        "lat, lon"
      ],
      "metadata": {
        "id": "LQdImvPrbOZr",
        "outputId": "b196a2f8-174a-4f42-8be9-42ba3bc6fa2f",
        "colab": {
          "base_uri": "https://localhost:8080/"
        }
      },
      "execution_count": 56,
      "outputs": [
        {
          "output_type": "execute_result",
          "data": {
            "text/plain": [
              "(40.10891, -83.09286)"
            ]
          },
          "metadata": {},
          "execution_count": 56
        }
      ]
    },
    {
      "cell_type": "code",
      "source": [
        "for x in df[['Start_Lat', 'Start_Lng']].sample(100).iteritems():\n",
        "    print(x[1])"
      ],
      "metadata": {
        "id": "VMTlZfThbskn",
        "outputId": "a09e676e-53af-4523-9e94-41c90cd72724",
        "colab": {
          "base_uri": "https://localhost:8080/"
        }
      },
      "execution_count": 57,
      "outputs": [
        {
          "output_type": "stream",
          "name": "stdout",
          "text": [
            "1694211    32.363214\n",
            "1343946    38.450310\n",
            "1780672    45.106087\n",
            "1694754    41.756694\n",
            "226459     30.456730\n",
            "             ...    \n",
            "659258     41.357871\n",
            "62549      26.519910\n",
            "2778085    39.897090\n",
            "1091530    41.426718\n",
            "1539785    43.098560\n",
            "Name: Start_Lat, Length: 100, dtype: float64\n",
            "1694211    -86.208983\n",
            "1343946   -121.371614\n",
            "1780672    -93.301129\n",
            "1694754    -87.880158\n",
            "226459     -81.700805\n",
            "              ...    \n",
            "659258     -74.711569\n",
            "62549      -80.072700\n",
            "2778085    -86.057770\n",
            "1091530    -73.326542\n",
            "1539785    -93.345948\n",
            "Name: Start_Lng, Length: 100, dtype: float64\n"
          ]
        }
      ]
    },
    {
      "cell_type": "code",
      "source": [
        "zip(list(df.Start_Lat), list(df.Start_Lng))"
      ],
      "metadata": {
        "id": "hpBPRkhIbsgz",
        "outputId": "22a81984-60d5-46b9-adc3-95f53fb3d329",
        "colab": {
          "base_uri": "https://localhost:8080/"
        }
      },
      "execution_count": 58,
      "outputs": [
        {
          "output_type": "execute_result",
          "data": {
            "text/plain": [
              "<zip at 0x7fa2c42a5320>"
            ]
          },
          "metadata": {},
          "execution_count": 58
        }
      ]
    },
    {
      "cell_type": "code",
      "source": [
        "from folium.plugins import HeatMap"
      ],
      "metadata": {
        "id": "-AWQQ-2YbseI"
      },
      "execution_count": 59,
      "outputs": []
    },
    {
      "cell_type": "code",
      "source": [
        "sample_df = df.sample(int(0.001 * len(df)))\n",
        "lat_lon_pairs = list(zip(list(sample_df.Start_Lat), list(sample_df.Start_Lng)))"
      ],
      "metadata": {
        "id": "L3roF2P8bsbT"
      },
      "execution_count": 60,
      "outputs": []
    },
    {
      "cell_type": "code",
      "source": [
        "map = folium.Map()\n",
        "HeatMap(lat_lon_pairs).add_to(map)\n",
        "map"
      ],
      "metadata": {
        "id": "QK9h3RERb_e5",
        "outputId": "ae98dc4b-fe20-4b97-eda9-33618a32a2e6",
        "colab": {
          "base_uri": "https://localhost:8080/",
          "height": 531
        }
      },
      "execution_count": 61,
      "outputs": [
        {
          "output_type": "execute_result",
          "data": {
            "text/plain": [
              "<folium.folium.Map at 0x7fa2b9126a90>"
            ],
            "text/html": [
              "<div style=\"width:100%;\"><div style=\"position:relative;width:100%;height:0;padding-bottom:60%;\"><span style=\"color:#565656\">Make this Notebook Trusted to load map: File -> Trust Notebook</span><iframe srcdoc=\"&lt;!DOCTYPE html&gt;\n",
              "&lt;html&gt;\n",
              "&lt;head&gt;\n",
              "    \n",
              "    &lt;meta http-equiv=&quot;content-type&quot; content=&quot;text/html; charset=UTF-8&quot; /&gt;\n",
              "    \n",
              "        &lt;script&gt;\n",
              "            L_NO_TOUCH = false;\n",
              "            L_DISABLE_3D = false;\n",
              "        &lt;/script&gt;\n",
              "    \n",
              "    &lt;style&gt;html, body {width: 100%;height: 100%;margin: 0;padding: 0;}&lt;/style&gt;\n",
              "    &lt;style&gt;#map {position:absolute;top:0;bottom:0;right:0;left:0;}&lt;/style&gt;\n",
              "    &lt;script src=&quot;https://cdn.jsdelivr.net/npm/leaflet@1.6.0/dist/leaflet.js&quot;&gt;&lt;/script&gt;\n",
              "    &lt;script src=&quot;https://code.jquery.com/jquery-1.12.4.min.js&quot;&gt;&lt;/script&gt;\n",
              "    &lt;script src=&quot;https://maxcdn.bootstrapcdn.com/bootstrap/3.2.0/js/bootstrap.min.js&quot;&gt;&lt;/script&gt;\n",
              "    &lt;script src=&quot;https://cdnjs.cloudflare.com/ajax/libs/Leaflet.awesome-markers/2.0.2/leaflet.awesome-markers.js&quot;&gt;&lt;/script&gt;\n",
              "    &lt;link rel=&quot;stylesheet&quot; href=&quot;https://cdn.jsdelivr.net/npm/leaflet@1.6.0/dist/leaflet.css&quot;/&gt;\n",
              "    &lt;link rel=&quot;stylesheet&quot; href=&quot;https://maxcdn.bootstrapcdn.com/bootstrap/3.2.0/css/bootstrap.min.css&quot;/&gt;\n",
              "    &lt;link rel=&quot;stylesheet&quot; href=&quot;https://maxcdn.bootstrapcdn.com/bootstrap/3.2.0/css/bootstrap-theme.min.css&quot;/&gt;\n",
              "    &lt;link rel=&quot;stylesheet&quot; href=&quot;https://maxcdn.bootstrapcdn.com/font-awesome/4.6.3/css/font-awesome.min.css&quot;/&gt;\n",
              "    &lt;link rel=&quot;stylesheet&quot; href=&quot;https://cdnjs.cloudflare.com/ajax/libs/Leaflet.awesome-markers/2.0.2/leaflet.awesome-markers.css&quot;/&gt;\n",
              "    &lt;link rel=&quot;stylesheet&quot; href=&quot;https://cdn.jsdelivr.net/gh/python-visualization/folium/folium/templates/leaflet.awesome.rotate.min.css&quot;/&gt;\n",
              "    \n",
              "            &lt;meta name=&quot;viewport&quot; content=&quot;width=device-width,\n",
              "                initial-scale=1.0, maximum-scale=1.0, user-scalable=no&quot; /&gt;\n",
              "            &lt;style&gt;\n",
              "                #map_858bd9554ab098be64cc4977c95191f1 {\n",
              "                    position: relative;\n",
              "                    width: 100.0%;\n",
              "                    height: 100.0%;\n",
              "                    left: 0.0%;\n",
              "                    top: 0.0%;\n",
              "                }\n",
              "            &lt;/style&gt;\n",
              "        \n",
              "    &lt;script src=&quot;https://cdn.jsdelivr.net/gh/python-visualization/folium@master/folium/templates/leaflet_heat.min.js&quot;&gt;&lt;/script&gt;\n",
              "&lt;/head&gt;\n",
              "&lt;body&gt;\n",
              "    \n",
              "    \n",
              "            &lt;div class=&quot;folium-map&quot; id=&quot;map_858bd9554ab098be64cc4977c95191f1&quot; &gt;&lt;/div&gt;\n",
              "        \n",
              "&lt;/body&gt;\n",
              "&lt;script&gt;\n",
              "    \n",
              "    \n",
              "            var map_858bd9554ab098be64cc4977c95191f1 = L.map(\n",
              "                &quot;map_858bd9554ab098be64cc4977c95191f1&quot;,\n",
              "                {\n",
              "                    center: [0, 0],\n",
              "                    crs: L.CRS.EPSG3857,\n",
              "                    zoom: 1,\n",
              "                    zoomControl: true,\n",
              "                    preferCanvas: false,\n",
              "                }\n",
              "            );\n",
              "\n",
              "            \n",
              "\n",
              "        \n",
              "    \n",
              "            var tile_layer_23d26f838d6f2550ee271c13ca9b1a28 = L.tileLayer(\n",
              "                &quot;https://{s}.tile.openstreetmap.org/{z}/{x}/{y}.png&quot;,\n",
              "                {&quot;attribution&quot;: &quot;Data by \\u0026copy; \\u003ca href=\\&quot;http://openstreetmap.org\\&quot;\\u003eOpenStreetMap\\u003c/a\\u003e, under \\u003ca href=\\&quot;http://www.openstreetmap.org/copyright\\&quot;\\u003eODbL\\u003c/a\\u003e.&quot;, &quot;detectRetina&quot;: false, &quot;maxNativeZoom&quot;: 18, &quot;maxZoom&quot;: 18, &quot;minZoom&quot;: 0, &quot;noWrap&quot;: false, &quot;opacity&quot;: 1, &quot;subdomains&quot;: &quot;abc&quot;, &quot;tms&quot;: false}\n",
              "            ).addTo(map_858bd9554ab098be64cc4977c95191f1);\n",
              "        \n",
              "    \n",
              "            var heat_map_fb15d288f3e4ddde9cc368c1bc1f7f21 = L.heatLayer(\n",
              "                [[42.34191, -121.39971], [25.891627, -80.163146], [40.1854, -89.31839000000002], [35.707317, -81.638664], [35.297637, -82.406134], [25.891749, -80.186577], [33.71383, -117.96438], [42.42324, -122.85105], [40.719334, -112.143031], [39.95979000000001, -76.70284000000002], [44.397908, -92.620185], [32.778651, -96.8028], [41.296087, -73.933652], [32.485484, -93.749649], [45.61177, -122.58889], [39.578408, -76.198564], [34.133092, -117.953102], [30.443417, -87.285271], [30.248761, -81.592915], [34.071625, -80.92596400000002], [38.17081, -85.7087], [40.138032, -75.113235], [33.910967, -118.168971], [42.47706, -83.098764], [43.587382, -111.622877], [30.441785, -91.187449], [33.630914000000004, -117.171258], [41.378583, -78.834627], [29.496383, -81.594208], [26.01846, -80.167089], [43.627921, -73.750287], [35.061911, -119.001663], [39.948125, -75.142077], [40.710528, -73.984615], [38.630735, -90.358474], [43.615917, -116.208404], [25.883627, -80.211609], [32.290495, -110.995079], [44.87345300000001, -122.860711], [26.665808, -80.070768], [38.290232, -121.458965], [36.600427, -119.41293], [34.867467, -118.215388], [28.345982, -82.699286], [37.129299, -121.681604], [39.751641, -74.881208], [41.84246, -72.6651], [33.974729, -118.241156], [25.632157, -80.41478199999997], [47.614456, -122.329813], [36.046841, -86.713383], [28.21872, -82.17993], [43.058596, -76.577827], [42.117596, -73.956103], [37.74116, -121.58024], [29.714904, -95.543947], [46.0358, -123.91318], [41.148747, -77.15181700000002], [33.620531, -84.477836], [29.732351, -95.476551], [38.454845, -120.867759], [42.002203, -87.886628], [34.494822, -118.621076], [40.489488, -79.927277], [35.33249199999999, -118.807493], [34.963429999999995, -82.02053000000002], [46.23572100000001, -94.108937], [37.256063, -121.871117], [32.992872, -117.2144], [40.763656, -74.022357], [29.77049, -95.213903], [25.450166, -80.477188], [28.575209, -81.451796], [35.17219, -89.90491], [27.99647, -82.559481], [38.843574, -94.529581], [34.750011, -117.169127], [37.54939, -122.29256], [33.989484000000004, -117.889232], [38.946844, -85.84344499999997], [33.856062, -118.011259], [34.066134000000005, -117.254233], [32.275934, -90.191543], [36.870974, -76.195536], [33.970537, -118.081711], [33.884519, -118.343829], [32.755576, -117.108989], [35.291312, -80.754595], [29.944740000000003, -82.424648], [30.407148, -87.34227800000002], [31.951049, -81.313695], [34.070427, -117.397604], [27.047468, -82.25541700000002], [29.021726, -81.227663], [40.75798, -74.20491], [33.181987, -117.321646], [25.868275, -80.209884], [42.461761, -79.312158], [26.75447, -80.08983], [32.714516, -96.312623], [41.9516, -124.20274], [40.039168, -76.064389], [41.560558, -106.108553], [40.663355, -75.382791], [38.481447, -78.810565], [32.6934, -117.12271], [44.30588, -121.17288], [38.821146, -77.16390899999998], [39.67173, -75.59862700000002], [39.968451, -75.128784], [32.313051, -80.934747], [34.140571, -80.913657], [44.9482, -93.10279], [46.13488, -123.807071], [32.817545, -96.871211], [36.845671, -76.17551], [40.23064, -104.98027], [44.83082, -93.1674], [33.032881, -87.276706], [45.02097, -93.18925], [45.501862, -122.786947], [41.864539, -71.403823], [37.54143, -77.44164], [47.653416, -122.186973], [33.85675, -117.978786], [40.89514000000001, -73.79835899999998], [40.75574, -74.19971], [46.171514, -94.361639], [43.01848, -78.192948], [25.891627, -80.163146], [42.38581, -83.26859], [32.110816, -110.960291], [37.647452, -77.45187800000002], [30.152790000000003, -81.508448], [39.707307, -86.063559], [25.760875, -80.419195], [25.907408, -80.292489], [27.893490000000003, -82.5184], [39.02861, -85.89155], [38.672404, -77.24608], [45.785227, -123.44181299999998], [37.47843, -121.93342], [34.152128000000005, -118.121459], [39.381953, -76.52136899999998], [38.906841, -104.71956], [32.409112, -93.725875], [25.581957, -80.36649399999997], [34.07578, -83.91407], [32.661365999999994, -97.269911], [28.552398, -81.448211], [37.758085, -121.069261], [33.901972, -118.273918], [33.848890000000004, -118.09397], [45.651851, -120.954505], [39.79834, -104.93092], [33.54347, -84.58308000000002], [26.54875800000001, -81.839259], [44.75618, -94.81554], [32.19221, -110.875031], [39.753014, -84.184219], [33.80608400000001, -117.880329], [45.5284, -122.65357], [41.23695, -73.02577], [32.699759, -114.445773], [41.650588, -72.67270500000002], [25.879527, -80.167462], [44.03578, -123.04495], [28.084415000000003, -82.44480899999998], [32.8375, -79.85805], [39.05394, -94.634032], [45.045149, -120.197757], [42.947482, -78.765334], [32.924440999999995, -96.780026], [30.503464, -87.216306], [28.550963, -81.413641], [30.27133, -81.613398], [35.31517, -80.83357], [40.691633, -111.544294], [33.928026, -118.237023], [42.229331, -122.743924], [32.88792, -96.70506], [40.72914, -73.909696], [36.166108, -115.062029], [34.902516, -82.41751500000002], [38.878662, -77.260351], [34.30597, -118.42662], [38.434022, -122.891834], [41.92362, -88.03796], [25.657163, -80.415911], [34.235593, -118.412323], [37.018094, -120.128422], [33.990781, -117.934224], [35.700212, -120.143297], [33.700461, -117.775079], [42.13176, -83.24128], [33.870759, -117.703451], [32.778643, -117.115961], [33.748635, -117.843755], [32.711672, -117.118974], [40.598869, -111.903472], [34.721886, -80.731288], [33.88394, -117.52528999999998], [39.295349, -77.306371], [37.82883, -122.29311], [40.309696, -74.303984], [40.316102, -74.24754399999998], [44.087501, -121.301089], [35.041537, -85.159042], [39.10628, -94.83059], [34.691565999999995, -82.46843], [40.980871, -78.136659], [27.055264, -82.394981], [28.385739, -81.50255200000002], [26.545156, -81.839239], [38.373978, -122.790845], [39.78275, -75.10089], [33.727866, -117.291512], [33.55311, -112.09949], [33.909474, -118.370353], [25.731925, -80.317114], [41.66821, -72.77475], [39.576644, -76.124161], [26.649153, -80.068471], [37.611941, -77.339254], [39.77821, -105.45835], [42.571923, -83.847656], [34.048579, -117.396384], [33.503891, -117.152613], [47.40596, -93.59711], [42.479249, -83.088172], [33.6324, -84.40643], [27.893897, -82.719746], [33.751789, -78.961743], [44.96548, -93.26765], [37.746982, -122.403107], [40.276593, -75.478915], [44.898494, -93.206301], [35.117346000000005, -82.193073], [33.819717, -118.317068], [41.579228, -87.627092], [34.488153999999994, -112.251711], [41.533931, -73.08799599999998], [36.79863, -121.664968], [38.090702, -122.227065], [29.957353, -90.093817], [43.36457100000001, -73.70230699999998], [37.774773, -122.401019], [40.439654, -79.75571], [37.62789, -122.08164], [38.582457, -121.501416], [27.28984, -80.42022], [35.043092, -85.115686], [28.368941, -81.430588], [30.443904, -86.94844300000004], [38.533074, -121.464695], [45.101865, -123.742081], [33.917766, -118.179148], [35.21153, -80.688266], [43.917878, -123.012188], [35.761957, -78.744989], [40.60861, -74.12787], [34.172276000000004, -118.51454], [40.73199, -73.9191], [37.66368, -120.46138], [31.31781, -89.40751], [41.84307, -87.99070999999998], [47.69332, -117.23108], [34.028931, -117.811436], [35.209055, -80.757341], [33.855763, -79.660279], [36.881218, -76.18689499999998], [37.2808, -121.887887], [37.435172, -77.634211], [35.44287, -80.869427], [43.684033, -93.321722], [44.31717, -122.00346], [34.099302, -117.488784], [33.982245, -118.394621], [36.736496, -121.368914], [34.135519, -117.982681], [34.500643, -82.99163399999998], [36.81019600000001, -76.352587], [32.681844, -96.852475], [41.94842, -87.72163], [41.254541, -77.045649], [42.983535, -85.677706], [34.020691, -117.102155], [34.222559999999994, -118.37041], [39.696803, -75.616396], [34.18248, -118.39767], [45.789331, -120.032898], [40.866451, -73.90900400000002], [45.474268, -122.787612], [35.20663, -80.820574], [43.037433, -77.812803], [34.78366, -82.475227], [41.275845, -73.051979], [40.095335, -76.535278], [30.288485, -97.674077], [29.404305, -98.557048], [37.321854, -80.66579399999998], [43.08621, -88.05729000000002], [45.50537, -122.60171], [38.699566, -90.262096], [36.90809, -82.04326999999998], [30.226462, -97.702464], [28.67312, -81.492264], [34.3384, -118.50737], [44.15735, -121.26097], [33.873572, -118.216817], [32.94112, -96.74414], [27.870685, -82.326589], [30.387151, -87.084191], [36.040187, -118.937216], [42.274817, -84.387203], [44.866822, -92.998698], [32.83903, -117.1463], [40.328835, -120.545056], [31.75452, -106.34856], [37.650599, -77.60743199999997], [34.27733, -84.81519], [33.719120000000004, -84.39681], [37.715952, -122.173664], [35.37597, -118.95412], [25.895725, -80.231346], [38.96103, -77.069978], [37.40915, -121.87859], [47.6322, -122.32477], [29.518236, -98.468919], [34.680828000000005, -120.441162], [33.840976, -117.224449], [40.738817, -74.06165899999998], [39.020873, -94.194298], [39.12735, -121.562991], [29.9536, -90.082386], [34.872573, -117.118034], [38.51427, -90.37594], [41.41098, -81.90751999999998], [44.97577, -93.46034], [38.037314, -121.255407], [34.581194, -118.133601], [29.794111, -95.37293], [37.82216, -122.32819], [25.860985, -80.234163], [42.88047, -78.77108], [33.46133, -112.10216], [40.96943, -74.15657], [43.976175, -95.71844], [25.848493, -80.20930200000002], [33.639319, -117.346579], [34.08747, -117.6456], [27.704731, -82.44329599999998], [44.76985, -93.28868], [30.45314500000001, -87.24308], [34.141281, -118.733603], [40.37063300000001, -75.52119], [40.853658, -73.965014], [40.446801, -74.29959699999998], [30.509902, -87.196533], [34.611862, -82.982734], [36.94825, -80.9282], [33.684, -84.40834100000002], [36.16059, -95.8512], [35.101282, -120.483566], [34.131048, -80.876674], [40.315371, -76.828025], [41.75731, -72.66268000000002], [41.022881, -78.361058], [39.45795, -107.26274], [38.1302, -85.84785], [37.39227800000001, -121.999993], [34.15664, -118.41042], [39.072074, -94.52412], [25.700673, -80.381158], [34.820625, -82.25639100000002], [39.982777, -111.766673], [45.01005, -93.16993], [40.707351, -73.803928], [34.068156, -117.601011], [28.197373, -81.706324], [33.98635, -118.28025], [29.618217, -95.425989], [45.054706, -123.493355], [39.532552, -76.663616], [39.308341, -76.94645], [35.008567, -81.1019], [40.702915, -73.482281], [39.71121, -104.9989], [34.066513, -117.509984], [25.683558, -80.388], [33.744428000000006, -118.007073], [40.769315, -74.204521], [25.731882, -80.29361], [32.722016, -96.696542], [38.423459, -121.390235], [42.43055, -123.092321], [25.78084500000001, -80.199884], [38.770156, -121.247888], [33.455482, -82.075735], [34.857195000000004, -82.323272], [28.556, -81.395624], [40.97432, -77.634338], [40.572131, -74.32351899999998], [40.835989, -73.870396], [36.048459, -86.861755], [33.949721999999994, -118.091853], [38.724403, -121.290974], [41.65813, -87.58708], [37.290212, -80.11101500000002], [39.026474, -77.394584], [37.740341, -122.407851], [34.063721, -117.267018], [41.044519, -73.559161], [35.756627, -78.617512], [42.92008, -73.34939], [26.322004, -81.805453], [33.85579, -118.283118], [36.841003, -121.518516], [42.985867, -85.66677299999998], [39.025605, -76.980655], [40.827691, -73.847701], [35.208832, -119.10996000000002], [39.8722, -75.08438000000002], [34.064409999999995, -117.30159], [25.928514, -80.18827399999998], [39.76677100000001, -75.048833], [39.04575, -76.99231999999998], [37.696991, -121.068302], [25.898409, -80.34167], [37.560647, -121.908351], [39.237958, -123.168123], [41.078449, -73.800455], [38.67367, -121.73326000000002], [37.74199, -121.57396], [32.180475, -111.084134], [42.57283, -124.38796299999998], [28.32149, -82.50234], [42.380843, -83.06455799999998], [37.207899, -93.294271], [25.654473, -80.41564], [34.968742, -82.276278], [36.889568, -112.351888], [45.48963300000001, -122.826729], [39.967499, -74.207593], [44.955271, -122.990323], [37.589604, -78.40360600000002], [37.552525, -77.47882800000002], [29.457191, -98.481643], [41.102245, -74.069328], [40.671011, -74.40901600000002], [33.000324, -96.863807], [38.304782, -87.56756], [34.113331, -118.244258], [33.639015, -117.730252], [33.930921000000005, -118.32913], [45.594481, -118.646141], [33.182111, -117.230933], [43.601241, -73.80238], [34.098064, -118.31462], [36.945143, -80.91968100000003], [38.496823, -121.409044], [32.77451, -97.21256], [44.283925, -121.167966], [43.77328, -123.06034], [34.941588, -82.259788], [34.272782, -118.449056], [33.942029, -118.011573], [40.71200200000001, -111.88827], [39.91744, -85.25213000000002], [47.97824, -122.176749], [32.72316, -96.82691], [35.44182, -119.022071], [35.258159, -112.086661], [33.1693, -87.50392], [47.65049000000001, -117.44034], [32.34121, -86.22547], [32.23594600000001, -110.957433], [41.07477100000001, -111.720352], [40.163408, -76.151273], [38.269722, -122.66682], [39.94518400000001, -76.175331], [42.15379, -88.03959], [39.153577, -94.521571], [40.61093, -111.93878], [26.715477000000003, -80.085471], [41.93847, -88.00339], [40.203076, -74.097521], [33.916276, -118.2329], [45.159642, -93.163202], [32.507221, -93.767548], [39.081763, -94.680659], [33.894845000000004, -117.273569], [30.303349, -97.714191], [34.4504, -119.276064], [27.381727, -82.53706600000002], [37.814519, -122.300308], [39.33442, -76.55698000000002], [35.021079, -90.002382], [38.94403300000001, -76.79809200000003], [29.534977, -95.85528], [45.490533, -94.245325], [38.125151, -122.10677], [33.291836, -81.226821], [45.54272, -117.49159], [34.061463, -118.163427], [45.037518, -93.0364], [29.648514, -95.246059], [38.459626, -77.40952800000002], [29.089619, -82.184878], [39.044945, -94.39101], [33.967429, -118.23583899999998], [36.291561, -119.78213], [39.09669, -94.59547], [34.12904, -117.93753], [34.398785, -118.461932], [35.90187299999999, -78.657598], [37.782697, -119.127031], [45.070649, -93.247693], [37.58385, -122.40584], [28.257089, -81.492228], [32.83692, -97.00521], [41.123512, -73.34120899999998], [38.798188, -77.12478], [29.78502000000001, -95.60869], [36.210862, -119.233406], [31.881304, -106.348181], [39.746357, -84.299537], [26.797666, -81.914062], [43.644397, -116.35438], [47.90349000000001, -122.24528], [45.068889, -93.297282], [37.696116, -121.067623], [35.197485, -80.790675], [33.93919, -117.22181], [25.762079, -80.33516], [32.731181, -96.919562], [33.96728, -118.371086], [25.844436, -80.206663], [34.11638, -118.17085], [28.515806, -81.39702], [36.986215, -120.903252], [38.863596, -76.896399], [33.773398, -118.039174], [25.749147, -80.303568], [40.66248, -74.258372], [41.769983, -72.675431], [33.4916, -86.78693], [32.67727, -97.067032], [39.613771, -105.02065], [33.941808, -118.354845], [38.88011, -84.62553], [44.862251, -93.254279], [38.587767, -77.319055], [42.83064, -78.79150899999998], [40.732148, -74.221352], [43.511969, -119.141049], [34.00416, -117.35017], [33.88056, -81.03701], [33.87795, -117.880221], [39.424393, -77.427134], [45.534285, -107.273479], [44.862887, -93.712985], [42.22192, -83.41275], [28.16494, -81.6399], [47.5975, -122.31723], [47.589651, -122.254647], [41.572426, -87.282611], [42.30449, -83.21203], [33.93582, -118.09293999999998], [25.783878, -80.218561], [45.28639, -121.728039], [37.013787, -76.39016], [40.919705, -74.067667], [39.928422, -75.246564], [34.79456, -118.8476], [37.92522, -121.735808], [41.04489, -73.56342], [33.928489, -118.24458], [37.932539, -122.404095], [34.174791, -118.101775], [41.427428000000006, -73.629419], [32.826433, -117.190672], [38.833268, -77.102447], [34.154529, -118.392569], [35.36587, -80.788186], [40.45292, -80.177806], [33.729432, -117.387746], [37.513951, -77.237634], [39.026172, -84.55708], [33.18399, -117.327402], [41.947278, -87.95933000000002], [34.109153000000006, -117.980903], [33.616671999999994, -84.445198], [39.007806, -94.554704], [39.828579, -78.212921], [40.88428, -111.900251], [45.576943, -122.960969], [45.5306, -122.83806], [33.86765, -111.467375], [34.173671, -118.30635], [28.63272000000001, -81.435476], [38.481866, -120.844946], [32.847361, -79.984486], [33.686141, -117.873488], [34.06743, -117.5799], [42.993739, -78.928191], [37.72093, -121.938362], [25.760879, -80.418491], [33.912975, -81.070669], [38.123042, -122.273151], [34.068971999999995, -117.396012], [37.609428, -120.993582], [41.82498, -87.71865], [35.65753, -80.459603], [32.760125, -117.198768], [34.032301000000004, -118.262092], [37.992022, -122.073735], [29.961781, -90.018511], [34.784428000000005, -82.406634], [45.70697, -121.57102], [37.739335, -121.59082], [41.78944, -87.917], [34.011124, -118.284884], [34.854817, -82.248297], [37.580097, -77.47411600000002], [37.605659, -120.99958], [25.927547, -80.213876], [35.284361, -119.061908], [25.858203, -80.183835], [28.034661, -82.12816099999998], [35.152557, -114.625662], [39.284631, -85.15600500000002], [34.0204, -118.157291], [33.820115, -84.36022700000002], [34.302528, -79.885009], [41.89459, -88.08224], [34.146895, -117.66955], [44.948009000000006, -92.985558], [39.1544, -84.54306], [37.14623, -121.98619], [41.95195, -71.0292], [33.953343, -118.280707], [34.121169, -117.832248], [35.811654, -78.730255], [34.943176, -118.931525], [25.809545, -80.25865300000002], [39.196354, -76.632074], [40.18358900000001, -111.64673], [43.01224600000001, -74.83189200000002], [25.962998, -80.15742900000002], [38.668314, -121.541651], [36.965163, -76.515022], [33.77553, -117.84732], [28.553662, -81.113068], [42.42844, -87.8771], [47.72801, -110.416105], [27.939144, -82.28576600000002], [34.072036, -117.902711], [38.93191, -77.20764], [41.80877, -88.05211], [39.6513, -75.31781], [34.060552, -117.80465], [38.298801, -122.301317], [29.923193, -90.124405], [42.31676, -77.2858], [33.11851, -117.31973], [45.46539, -122.69568999999998], [34.15758, -118.4525], [38.44466, -77.97878299999998], [30.686154, -88.005769], [34.308253, -79.61981800000002], [36.09140900000001, -86.735038], [25.782142, -80.396248], [41.305132, -74.130461], [38.62802, -121.407806], [40.7329, -73.33909], [42.39459, -71.08771999999998], [40.570503, -77.244218], [34.746685, -114.560607], [25.845329, -80.322513], [25.886303, -80.208988], [41.79485, -87.81729], [34.068117, -118.028608], [44.80181, -69.22029], [32.733875, -117.173429], [42.326673, -88.608455], [25.621136, -80.378648], [28.520536, -81.302088], [43.136649, -75.271056], [45.523599, -122.565182], [41.014205, -77.67875699999998], [35.228072, -80.86128599999998], [26.616822, -81.714777], [25.656557, -80.40572900000002], [45.541001, -122.69871299999998], [39.098743, -84.522424], [34.15338, -118.36461], [38.86769, -76.99037], [34.020212, -117.814998], [37.65393, -77.600539], [33.63743, -117.42217], [34.13479, -117.61622], [35.063564, -85.306365], [41.940522, -87.89526500000002], [42.425218, -123.039675], [37.679204, -122.101315], [47.60488, -122.3287], [35.01488, -85.31434], [42.22084, -88.11164000000002], [37.084125, -121.103228], [33.639843, -85.52147099999998], [37.238799, -80.22908699999998], [39.817468, -104.983023], [34.030483000000004, -117.662512], [33.917646999999995, -118.251103], [41.61058, -87.69721], [41.730274, -73.910446], [46.19834, -92.84568], [40.746571, -111.94904], [35.054594, -81.992393], [32.786276, -79.95571600000002], [39.830348, -75.08851899999998], [34.068667, -117.798864], [35.917747, -78.68193000000002], [44.932461, -123.137954], [33.774468, -118.041236], [44.197907, -94.020977], [37.566211, -77.453998], [39.491976, -76.238958], [36.454643, -82.523127], [34.79039, -82.17985], [43.684526, -116.320077], [35.206331, -80.758387], [41.75138, -87.99329], [45.779251, -118.086619], [42.300845, -122.837225], [37.3027, -120.537616], [38.63901, -90.49464], [27.893822, -82.334747], [32.778477, -96.916435], [38.150335, -121.661235], [42.175598, -122.659849], [34.129551, -117.935148], [41.497839, -95.123866], [30.657573, -85.038117], [29.85929, -95.362853], [25.893601, -80.261645], [29.67367, -95.38185], [38.961171, -93.205122], [37.989338, -113.001154], [26.1187, -80.32937], [33.974771000000004, -118.256391], [37.476251, -121.932551], [25.689146, -80.38287199999998], [39.094216, -77.52721], [35.00215, -85.31241700000002], [28.66658, -81.388295], [45.49841, -122.65962], [41.765073, -72.690943], [32.264947, -110.929817], [33.421017, -111.891395], [38.785281, -77.822889], [39.50741, -104.87237], [34.030401, -117.62305], [32.837140000000005, -96.9965], [41.063901, -73.976837], [33.63136, -84.41223000000002], [45.06695, -93.44785], [28.376064000000003, -82.195738], [32.902822, -96.714929], [25.510359, -80.432757], [33.93517, -117.03649], [37.684367, -122.471311], [33.83908, -118.26301], [34.014593, -117.453284], [33.856367, -117.785564], [40.6238, -74.21623000000002], [28.609264000000003, -81.41595600000002], [45.520801, -122.661775], [39.309135, -77.346737], [39.135765, -77.66806899999997], [45.343201, -92.651925], [35.772289, -78.741577], [35.81549000000001, -78.69085], [32.206829, -110.96479], [40.042494, -76.308578], [34.062011, -118.162869], [34.061370000000004, -118.16799], [33.931909999999995, -118.10132], [34.146591, -80.744694], [32.907615, -96.729462], [39.032812, -76.94454499999998], [37.348045, -122.059783], [39.63465, -105.895736], [40.122184, -75.35893], [34.259391, -119.251419], [33.750118, -84.496976], [45.485266, -122.67916], [38.867708, -77.315586], [33.93091, -118.307225], [33.904756, -118.105133], [37.73799, -122.19428], [37.795617, -122.267782], [28.383103, -82.690163], [40.55018, -111.89602], [36.781443, -120.726774], [33.562433, -117.203279], [35.390258, -118.993195], [25.770822, -80.33653100000002], [25.86072, -80.21166600000002], [32.679651, -117.086053], [42.254069, -83.68089599999998], [38.94647, -76.84464], [34.081622, -117.719252], [47.351986, -94.622122], [33.955624, -81.236389], [39.019242, -94.553847], [37.048078, -76.40285899999998], [37.950041, -119.200653], [27.939767, -82.285787], [27.88201, -82.572979], [39.072622, -77.133782], [33.37826, -111.9632], [37.25046, -121.91199], [39.100302, -76.81704599999998], [25.796831, -80.36641], [38.455758, -81.887326], [39.0988, -94.60964], [40.29128, -111.733897], [39.53259, -77.31142], [42.292777, -87.904049], [41.58898, -72.65029], [33.678090000000005, -117.84683], [33.958902, -118.28054], [40.923193, -73.860382], [34.033714, -118.221828], [35.26073, -81.10014], [25.926707, -80.20635300000002], [38.379052, -78.252729], [28.42485, -81.404787], [37.3866, -121.90556], [29.716317, -82.46583100000002], [38.60227, -90.08561], [32.675940999999995, -96.607864], [34.17128, -118.51509], [25.598557, -80.355518], [39.87535, -75.04845], [34.009471000000005, -117.972386], [44.861579, -93.47843], [34.073971, -80.955676], [45.558995, -122.678675], [35.83965999999999, -78.676591], [32.239764, -80.973621], [32.712682, -117.140232], [33.983022, -117.342966], [38.495969, -121.459148], [40.21371, -76.12644], [33.00827, -111.757386], [25.483784, -80.433497], [43.638993, -96.218208], [44.786678, -117.811468], [33.014896, -117.079249], [45.46125, -122.38323], [33.977579, -118.247693], [33.9594, -118.41884], [34.226685, -118.382217], [37.26644, -121.94846], [38.365191, -85.75491], [38.687998, -76.872366], [38.64162, -121.42506000000002], [45.54155, -122.47732], [36.6445, -119.704166], [29.186364, -82.18947299999998], [44.926882, -93.145405], [33.43107, -86.71142900000002], [44.96869, -93.34172], [34.023916, -118.189726], [39.425702, -76.805901], [25.944221, -80.20534], [46.101919, -123.195248], [34.273917, -119.135292], [30.263945, -81.62177700000002], [37.490344, -77.43250400000002], [41.049032, -111.679885], [35.569297, -78.34262], [25.823886, -80.242068], [42.830339, -71.29351899999997], [34.01152800000001, -80.489366], [35.197142, -80.792061], [35.349727, -119.252169], [33.68662, -117.766], [25.904868, -80.187066], [40.70059000000001, -111.95291], [26.169966, -80.85047800000002], [35.224606, -80.84208100000002], [33.967222, -118.083234], [29.712478000000004, -95.278276], [45.513621, -122.792569], [28.06801, -80.685562], [36.040927, -86.651605], [42.533951, -78.423751], [34.228294, -117.251241], [36.445087, -77.62532900000002], [35.22656, -80.74722], [37.87612, -122.04604], [39.662221, -79.423824], [33.77452, -118.07492], [34.18636, -118.47401], [33.509427, -112.160164], [35.690452, -78.580012], [32.924517, -96.786042], [36.743626, -119.809869], [42.39459, -71.08771999999998], [33.46216, -112.023596], [48.292641, -111.936377], [33.51876, -82.06057], [48.855439, -122.584236], [45.054999, -93.187779], [33.049197, -117.072805], [43.06059000000001, -88.05314], [42.951704, -78.909312], [45.347029, -121.142098], [30.390425, -89.73088800000002], [44.787858, -119.088288], [34.613515, -82.43079300000002], [35.060395, -82.306726], [34.30045, -118.47672], [45.407576, -122.562344], [34.941233000000004, -118.931196], [37.17026, -121.9898], [39.575698, -107.223307], [29.025481, -82.16244499999998], [41.94588, -87.76623000000002], [33.92889, -118.29314], [36.271129, -119.313424], [42.101811, -73.937827], [44.49604, -122.00345], [40.44246500000001, -79.762855], [27.496235, -82.530364], [34.04435, -118.179889], [32.665337, -111.053386], [47.54626, -122.05488], [36.841392, -76.164238], [33.999528999999995, -117.892043], [41.86968, -87.88883], [35.201469, -80.72590799999998], [38.872227, -77.29165400000002], [45.191623, -122.839117], [33.908491999999995, -118.233141], [35.869878, -119.270605], [38.09643, -122.5618], [38.176064, -119.194796], [35.254368, -120.676243], [41.89301, -71.37746], [34.216414, -118.473351], [33.969694, -118.230219], [34.702675, -82.286242], [40.24269, -74.08646], [37.50433, -77.65486700000002], [39.182409, -94.795673], [47.213586, -110.425625], [42.363409, -87.92868], [40.637258, -111.808387], [36.171787, -86.798804], [42.13485, -79.12575], [29.7318, -95.38996], [43.019145, -78.181275], [40.176097, -75.261853], [42.708338, -73.858283], [35.08767, -80.85295], [39.340785, -120.172244], [33.869679999999995, -117.671545], [32.732908, -97.375036], [40.222073, -75.54734499999998], [33.89277, -118.36408], [38.659032, -77.260826], [36.0352, -79.794], [38.812165, -76.849441], [28.33242000000001, -81.58372], [46.746738, -94.453238], [37.552988, -77.48010699999998], [34.27359000000001, -118.59052], [42.24025, -87.922859], [34.121664, -117.911315], [43.242187, -75.256206], [39.020873, -94.194298], [32.767957, -96.802151], [47.754475, -122.164102], [37.622499, -77.550712], [39.646885, -74.787672], [35.92592, -84.05487], [42.759542, -73.489552], [40.71006, -74.18038], [26.963939, -82.353021], [25.942635, -80.149803], [40.528053, -74.298879], [38.934621, -77.032724], [45.345178, -93.889535], [40.66764000000001, -73.99632], [25.928172, -80.20886], [30.568446999999995, -91.047714], [30.58313900000001, -88.166073], [27.696599, -80.896799], [43.102294, -76.181613], [30.520437, -97.688831], [28.704252, -81.32664799999998], [37.070413, -121.589137], [25.656062, -80.418763], [47.134935, -122.529131], [36.220024, -86.774772], [40.15678, -80.13756], [46.10862, -123.9218], [36.326991, -119.327133], [28.4101, -81.47130200000002], [35.536495, -119.5743], [39.909378, -86.04275200000002], [33.413511, -86.809362], [33.609795, -117.686521], [32.759906, -97.127223], [39.236411, -77.288531], [33.76182, -80.956764], [33.906652, -84.357615], [27.95799, -82.501401], [32.81328, -96.64808], [36.983601, -76.30154], [35.11880900000001, -80.779662], [45.26923, -111.2492], [32.3594, -111.08029], [40.52576, -122.33368], [38.662183, -121.272078], [33.607169, -114.605498], [41.221575, -96.090541], [43.863101, -95.114928], [45.15768, -93.512907], [38.94208, -94.754472], [37.7009, -121.795], [32.767532, -97.308844], [42.88909, -85.497804], [25.899251, -80.190506], [34.064678, -118.245501], [40.724735, -73.934611], [35.056991, -80.817584], [33.97384, -118.221452], [27.037981, -80.23319000000002], [41.855732, -74.058462], [37.77304, -122.40657], [30.200440000000004, -97.798748], [35.456987, -82.54293], [29.48953, -98.569743], [37.264691, -79.937628], [25.915279, -80.292721], [38.661144, -121.373678], [40.783309, -124.125541], [45.656465, -121.900488], [43.06261, -76.15814], [33.74616, -84.39249000000002], [25.809039, -80.242257], [41.327489, -73.655671], [34.804869000000004, -120.445014], [27.789978, -82.728337], [26.038555, -80.16379599999998], [34.038059999999994, -118.27621], [34.036406, -80.938028], [40.713534, -73.95355699999998], [35.570759, -78.345069], [35.27806, -80.79356], [41.101286, -73.984071], [30.366916, -97.677248], [35.143562, -85.234352], [38.728512, -76.88126199999998], [41.574122, -87.48210300000002], [34.62236, -79.0549], [30.049094, -89.98360100000002], [33.976927, -118.282675], [42.89815, -78.89747], [38.908212, -120.850088], [34.06774, -117.83548], [40.893677, -74.127105], [35.50781, -97.57637], [34.03009, -117.91852], [33.861847999999995, -118.317056], [34.444990999999995, -119.199772], [37.874969, -121.277714], [36.8387, -76.15973000000002], [34.420207, -80.756858], [40.756193, -73.852287], [38.71107, -90.44812], [48.226167, -122.092252], [44.943619, -93.274601], [34.876019, -82.359443], [41.625683, -80.185611], [40.72513, -74.00699], [25.889423, -80.16140899999998], [38.868195, -77.047359], [38.198159, -78.90563], [36.762477, -119.832898], [32.677209000000005, -117.084769], [35.075451, -85.106502], [36.845985, -76.190237], [36.97831, -120.08069], [40.846059, -73.930479], [34.34028, -79.53712], [33.928308, -118.273892], [42.914603, -85.764802], [34.0687, -117.839494], [32.295753999999995, -95.261853], [35.050169, -81.801937], [45.52743, -122.60936], [45.429439, -122.56611200000002], [28.201594, -80.67059300000003], [30.185567, -97.609487], [43.175216, -77.62985], [30.691734000000004, -88.02931600000002], [37.493752, -77.013355], [42.87645, -117.5029], [37.275849, -80.13855799999997], [33.419740000000004, -82.05459], [30.523012, -81.635552], [44.90342, -122.9851], [40.76011, -73.96229], [38.222454, -85.50059399999998], [39.395926, -76.688381], [26.399045, -80.09034399999999], [25.881633, -80.24296700000002], [37.611983, -77.520099], [26.337999, -81.80668], [40.56549, -78.32604], [44.717052, -93.129275], [42.98739000000001, -83.74372199999998], [43.35584, -124.20614], [33.65225, -117.74096000000002], [40.029665, -76.305214], [41.309068, -73.096528], [38.005247, -121.84187], [28.997287, -81.30242700000002], [32.221552, -110.8778], [45.369812, -118.293904], [30.381245, -97.685104], [39.09885, -76.79973000000003], [43.02055, -85.66837], [33.82544, -117.11682], [41.857893, -87.91919], [43.125227, -75.297437], [43.011592, -74.857331], [41.996687, -123.721343], [39.86674, -76.69848], [38.756559, -77.276032], [26.547684000000004, -81.78012199999998], [33.90057, -118.104971], [40.74977, -111.6051], [33.724883, -81.563776], [30.454991, -91.180643], [45.51883, -122.68743], [38.018741, -121.942884], [40.622247, -80.054121], [38.754024, -121.26438799999998], [43.010777, -78.369437], [34.04724, -117.986382], [25.929465, -80.188313], [40.99409, -73.65975999999998], [28.450866, -81.338449], [37.286337, -76.720233], [41.30266, -74.132813], [33.64623, -86.82921999999998], [38.596184, -121.41364], [41.20342, -111.979273], [40.776312, -77.784995], [26.63103, -80.12119], [39.93047, -74.95634], [29.60093, -95.1995], [31.779653000000003, -81.378266], [35.356367, -82.456852], [36.60991, -120.184975], [37.740533, -122.407991], [30.399834, -87.317886], [35.773454, -78.691358], [35.246661, -80.96206], [40.391803, -111.835702], [34.24779, -118.42585], [40.74328, -73.77561999999998], [33.929225, -117.658433], [35.26014, -81.10475], [28.61099, -81.3867], [33.976327000000005, -117.385706], [42.35967, -87.8976], [34.001055, -118.280831], [43.17013, -77.61174], [38.01913, -121.93724], [33.85793, -117.98326000000002], [29.67128, -95.54671], [40.008171, -75.202991], [35.078412, -89.920967], [37.50093, -77.52739], [41.688957, -72.648767], [33.93301, -81.015596], [33.729845000000005, -117.388487], [32.917102, -117.120634], [42.166852, -122.656933], [38.76088, -111.45653], [42.318488, -71.051985], [38.303586, -78.929568], [32.840398, -117.138344], [34.066103000000005, -117.326377], [27.269283, -82.493127], [36.882019, -76.431156], [39.991194, -79.050624], [33.928931, -118.281073], [37.693292, -122.14188500000002], [42.903059000000006, -85.677314], [25.820943, -80.20625], [42.26907, -84.60309000000002], [33.867107, -117.744831], [40.065663, -76.3483], [45.390388, -92.840572], [33.968167, -118.167854], [34.47432, -118.30858], [39.536581, -119.803591], [39.813389, -104.99087], [34.690557, -82.222767], [40.987495, -73.838865], [44.831951, -92.963638], [25.712059, -80.28003000000002], [38.01381, -122.25668], [34.451637, -82.430145], [37.86948, -122.30474], [33.717721999999995, -117.969021], [25.686512, -80.382542], [34.087901, -118.475148], [25.760878, -80.419588], [33.925239000000005, -117.880042], [45.234934, -93.554482], [33.719494, -117.795211], [40.709291, -73.99423900000002], [28.22962, -80.7325], [38.894716, -77.43276800000002], [38.562748, -121.694582], [34.05819, -117.17049], [25.76182, -80.337716], [41.73739000000001, -87.82376], [39.680213, -76.89175300000002], [45.54085, -122.46834], [34.267505, -118.472024], [41.371018, -73.80108100000002], [44.119073, -121.316758], [39.068857, -121.653297], [40.361226, -74.292823], [33.910918, -117.883722], [28.42136, -81.40471], [47.813841, -110.744279], [37.612418, -77.52033], [29.747651, -95.541662], [41.53687, -73.08635], [41.246564, -73.088545], [35.030969, -118.971065], [38.54082, -90.30282], [32.898677, -96.715017], [34.271302, -79.885124], [35.33804, -119.03948], [34.051371, -117.404044], [28.237384, -82.14706], [33.955951, -117.380917], [42.39792, -82.98566], [25.700704, -80.383193], [39.05358, -94.47833], [37.863935, -122.302816], [36.086343, -80.058821], [42.951891, -85.63466899999997], [25.688161, -80.33259699999998], [33.655526, -117.588567], [45.78969, -118.2663], [25.466171, -80.474373], [40.847092, -73.933364], [35.60916, -97.46041], [32.941042, -96.768843], [30.141956, -97.833025], [40.567413, -75.513743], [25.88402, -80.3219], [25.71404200000001, -80.43021], [38.940728, -76.981383], [33.748559, -118.286231], [28.06995, -82.352753], [40.89048, -74.694124], [36.108861, -86.67936800000004], [38.350281, -121.43583999999998], [30.660842, -88.058274], [37.68662, -122.132982], [44.986127, -93.28857], [32.77401, -117.12655], [39.68228, -123.495147], [26.565192, -80.172949], [34.19239, -118.40236000000002], [37.767668, -122.395851], [39.41035, -77.5897], [25.887561, -80.164221], [33.36104, -117.537621], [34.020129, -118.192262], [33.977491, -84.089033], [28.47926, -81.28805], [25.869753, -80.234451], [35.294426, -80.960515], [33.109056, -80.145016], [43.480186, -73.686823], [30.468563, -91.080103], [34.050203, -117.303675], [28.2841, -81.351378], [42.96402, -123.797003], [36.109346, -80.08839], [31.899093, -106.395303], [42.51917, -87.95161999999998], [29.33049500000001, -82.15158000000002], [39.4091, -76.57916999999998], [34.169355, -118.597467], [36.878397, -121.565016], [39.75329, -121.968034], [38.805242, -77.16929499999998], [29.729355, -95.501107], [26.656441, -81.797483], [34.744865000000004, -120.514856], [30.254491, -82.430495], [38.670298, -121.382969], [41.91483, -88.03777099999998], [32.660021, -96.871149], [34.19879, -117.41742], [37.43156, -77.43123], [39.01045, -77.1508], [34.8522, -82.45165], [30.422282, -91.051477], [34.652835, -120.182622], [29.945562, -90.077527], [36.564875, -121.513322], [37.59075, -121.87003], [35.34141, -80.76736], [30.84235, -83.280141], [34.039583, -118.596897], [42.977303000000006, -124.142514], [42.56289, -123.37215], [32.77742, -96.78339], [36.945418, -120.043574], [38.908561, -77.91909100000002], [38.67167, -90.36186], [29.951590000000003, -95.41762], [26.317051, -80.11622], [35.348201, -118.932074], [39.016496, -77.01204200000002], [29.85017, -95.39499], [33.856856, -118.028743], [34.001490999999994, -117.966164], [38.697781, -76.870304], [39.05997, -94.56106], [34.146278, -118.192617], [28.261058, -81.614655], [28.468802, -81.417358], [46.701014, -92.426107], [33.921890000000005, -118.28151], [25.934878, -80.293561], [38.59603, -121.4015], [29.723163, -95.499634], [42.971594, -82.672446], [38.57762, -121.415481], [34.178215, -117.440759], [38.982177, -77.093274], [40.721938, -73.391855], [32.782049, -96.812565], [26.594929, -80.068977], [37.940596, -121.739952], [36.782172, -76.393464], [40.739611, -73.90055500000003], [33.069349, -117.069327], [44.924951, -93.4474], [40.722171, -73.941058], [30.040759, -89.997551], [28.452939, -81.400159], [26.279296, -80.12524599999998], [37.5718, -77.38226999999998], [41.86514, -71.4303], [33.37775, -112.072632], [33.846926, -117.252848], [44.29147800000001, -121.45316], [36.632072, -82.11698299999998], [38.820457, -76.849058], [32.84768, -117.17834], [45.546108, -122.682169], [37.839485, -77.450625], [35.76138800000001, -119.205242], [32.936162, -80.04214499999998], [36.299607, -84.216984], [42.292949, -84.962121], [40.005887, -74.85518499999998], [34.156452, -117.326352], [45.05263, -123.49893], [36.03534000000001, -79.79399000000002], [36.22089, -86.7747], [45.18934, -93.5435], [37.25549, -121.84955], [41.52248, -81.39076], [35.07743, -120.58482], [34.698718, -117.207008], [36.117198, -79.711586], [39.327614, -77.344504], [41.7217, -87.62416], [26.547965, -81.83930600000002], [34.473226000000004, -118.646714], [45.4638, -122.63846], [38.929069, -122.002088], [33.876536, -118.082241], [33.876104, -118.168144], [37.926362, -122.060449], [30.416141, -91.069513], [34.072329, -118.080695], [38.5017, -120.670749], [33.825109999999995, -118.082], [45.692869, -111.079554], [37.467575, -122.152845], [27.44603, -82.45955], [25.971976, -80.20598000000003], [33.937782, -117.555791], [34.362461, -118.555028], [30.05571, -95.43261], [40.829669, -74.32799200000002], [37.701993, -121.915135], [38.613308, -77.316497], [33.968340000000005, -118.169556], [37.828028, -122.29443700000002], [33.940125, -117.291229], [32.250349, -110.985583], [33.702934, -117.951242], [40.942273, -76.457176], [41.130868, -111.158653], [29.704057, -95.537914], [27.206279, -80.33210600000002], [25.735636, -80.302983], [33.562449, -117.672854], [36.249887, -86.64438100000002], [33.974641, -118.287663], [39.99087, -77.09083000000003], [32.88432, -96.69737], [37.375235, -121.933632], [39.700074, -86.16993199999996], [39.137972, -121.59032], [34.309684000000004, -80.53022], [34.01703, -118.078769], [34.540561, -118.122898], [29.924925, -95.408657], [35.194814, -118.842021], [40.856019, -73.972202], [35.170127, -80.806774], [42.933927, -73.80353000000002], [30.381245, -97.685104], [45.75869, -123.29519], [35.202589, -80.758142], [33.808924, -118.287496], [40.616484, -111.905399], [47.464959, -122.27982], [45.539089, -122.698327], [37.73235, -122.4141], [42.27648, -122.81038999999998], [45.653957, -123.148767], [43.16206, -77.58354], [44.757022, -122.437164], [32.187666, -110.968343], [39.12762100000001, -94.497953], [39.912129, -75.11595200000002], [33.63913400000001, -117.572293], [36.752938, -119.827103], [28.56703, -81.209618], [32.837506, -97.089614], [35.099325, -110.973654], [41.163443, -73.36104499999998], [39.63343, -77.81434], [32.358351, -95.31236], [47.465307, -122.241076], [39.098249, -77.038825], [28.452192, -81.400388], [42.268985, -84.535514], [41.56983, -87.417236], [39.62131, -77.78943000000002], [30.37311, -87.17702], [45.1704, -123.93028], [45.483387, -94.144195], [28.4493, -81.477791], [42.6366, -83.23843000000002], [47.008985, -104.833463], [40.844731, -73.92514399999997], [47.040225, -122.869413], [44.89064000000001, -93.26783], [39.02197, -84.5041], [30.141581, -81.508437], [32.294579, -80.936611], [40.74006, -73.78995], [33.749984999999995, -117.4541], [36.739188, -76.32686899999999], [32.760395, -117.172411], [34.681243, -82.451532], [40.83603400000001, -74.124785], [46.883507, -92.352466], [35.626359, -82.57883100000002], [43.586572, -111.610268], [39.62767, -84.18097], [38.784729, -77.178351], [35.69430999999999, -78.87722], [41.193353, -74.181827], [47.6562, -122.32243], [24.982066, -80.547588], [32.164491, -110.77576], [32.66421, -96.783989], [25.642714, -80.334553], [27.845656, -82.676361], [32.75782, -117.21795], [40.145232, -75.23826899999997], [38.333439, -121.955389], [35.857647, -78.552844], [33.317531, -117.482159], [40.70479, -73.95889], [40.80509, -73.92038000000002], [32.62669, -117.09477], [32.823388, -117.230271], [34.016107, -84.56890200000002], [40.506346, -111.413499], [35.37479000000001, -86.8831], [41.078071, -73.92138100000003], [35.543313, -120.722706], [29.652688, -95.553122], [29.662679, -95.597796], [45.400706, -122.572896], [27.66146, -82.435473], [29.438796000000004, -98.505391], [44.78875, -95.08719], [25.724484, -80.415415], [37.358204, -77.40405600000003], [37.715753, -120.193186], [35.078558, -89.921973], [30.458431, -87.239674], [25.97251, -80.35209], [28.50296, -81.16136800000002], [37.588316, -120.953367], [30.443254, -91.189199], [32.932390000000005, -96.82204], [43.07448, -87.92075], [36.450168, -119.249784], [29.701573, -95.587731], [34.4972, -112.003044], [33.780731, -84.391209], [30.632388, -81.54634200000002], [33.762607, -117.710834], [40.67351, -74.35134000000002], [44.68435, -123.05357], [26.155763, -81.669988], [43.03548, -87.90538000000002], [29.03003, -82.158776], [34.201131, -118.405169], [38.575805, -121.508383], [36.067761, -79.494913], [45.43934, -122.56793], [33.856840000000005, -118.284809], [46.793371, -92.882777], [28.53901, -81.31065], [33.494204, -112.161177], [35.318154, -119.036457], [34.037262, -118.16186], [38.240036, -78.963903], [33.674908, -117.845181], [27.44627100000001, -82.502024], [39.105608, -77.525599], [29.871033, -95.35108], [38.141795, -85.577026], [33.549419, -112.112482], [37.407387, -121.910473], [39.186016, -78.129863], [39.173401, -76.796812], [41.94600000000001, -87.75692], [33.012584999999994, -117.079693], [30.503859, -87.166579], [29.737268, -95.538598], [38.433313, -122.688736], [39.96547, -111.31596], [39.44723, -119.771201], [28.348176, -81.23214300000002], [41.80731, -89.49383], [34.789262, -82.22604799999998], [38.017963, -121.894136], [38.707128, -121.384042], [48.320562, -110.127985], [34.283611, -119.318611], [30.067702, -90.390132], [34.004011, -117.830189], [41.289678, -78.397396], [35.043356, -118.111102], [33.869529, -117.67176], [40.059239, -75.482061], [32.662213, -96.855448], [39.51685300000001, -106.207967], [29.364255, -98.634299], [33.597846000000004, -117.67641], [28.334713, -81.489637], [28.53837, -81.35598], [40.379221, -76.305717], [38.335474, -123.052194], [38.85618, -77.33225999999998], [30.454707, -91.184854], [40.159833, -75.051838], [44.482926, -124.081034], [33.61518, -83.85225], [41.07022, -73.76961999999997], [42.732278, -73.897465], [35.165276, -80.87744599999998], [29.992815000000004, -90.080798], [37.948568, -76.700409], [25.713367, -80.447214], [25.94146, -80.188743], [35.053736, -85.263898], [40.72524, -73.48914], [37.932715, -122.060323], [41.48208, -91.55085], [33.991431, -118.280772], [34.494202, -82.369185], [39.206858, -78.135521], [30.669317, -85.168415], [34.056540000000005, -118.21316000000002], [34.152179, -117.255341], [35.82380999999999, -78.37918], [27.447717, -82.607518], [37.68555, -92.63694], [36.264013, -86.72192199999998], [32.3268, -86.29973000000004], [41.551938, -73.044137], [45.014451, -92.95879], [44.802539, -69.2204], [28.191068, -82.4623], [40.16356, -75.210803], [35.23378, -82.73428], [43.0674, -88.05327], [30.501766, -84.456007], [32.760032, -117.190669], [39.076067, -77.119428], [44.420653, -121.789273], [42.92712, -85.607959], [38.657615, -121.272241], [25.78601, -80.25809], [32.70449, -96.58003], [28.565889, -81.286078], [33.555806, -112.04188899999998], [41.76089, -72.66873000000002], [34.07233, -118.08066], [33.699001, -117.936015], [39.27743, -76.55615], [39.928635, -76.82266700000002], [41.376107, -73.943887], [40.689392, -111.95195], [32.93906, -117.110685], [37.418841, -121.964368], [33.859069, -117.876703], [37.76824000000001, -122.39638], [45.123714, -93.188384], [39.028612, -77.020635], [35.37751, -118.908043], [34.132335, -117.226137], [25.706182, -80.158784], [36.072798, -86.609658], [35.115713, -81.988], [32.444720000000004, -93.729804], [36.880298, -119.893144], [30.19600100000001, -95.45449], [41.20951, -73.72962], [32.83785, -97.19463], [45.559, -122.67901], [42.970986, -85.69654399999997], [37.742006, -121.525226], [35.17647, -80.88606999999998], [43.652261, -93.916529], [45.342271, -122.350908], [28.523332, -81.330957], [38.61221, -121.401481], [30.439156, -91.182886], [32.601585, -93.882205], [35.655237, -120.696911], [34.089921999999994, -117.302018], [38.40105, -121.3715], [37.996213, -121.232254], [42.43102800000001, -123.254055], [40.77035, -73.56468000000002], [38.614931, -121.536106], [30.251499, -81.523768], [42.998846, -83.674932], [44.970128, -93.321754], [41.28999, -72.66717], [44.799939, -117.812544], [37.276327, -76.500284], [33.831111, -118.083805], [34.083220000000004, -118.22836], [34.072298, -118.055323], [33.869529, -117.67176], [38.55586, -121.44235], [30.221704, -97.683981], [33.044882, -97.013453], [25.702666, -80.324269], [28.529747, -81.205575], [34.799138, -91.762124], [34.054012, -117.689253], [38.191538, -120.829016], [32.91299, -96.89803], [28.280641, -81.416338], [33.974707, -118.280987], [42.205327, -87.89132], [32.760337, -117.192561], [34.082021999999995, -117.698293], [37.617187, -77.443893], [38.847236, -77.427595], [43.60216, -116.354879], [29.733256, -95.460665], [40.11177, -83.00771], [28.494015, -81.45790500000003], [34.0065, -118.15532], [39.055742, -76.972285], [46.001521, -123.917175], [33.476225, -117.138931], [45.147103, -122.884944], [33.871353000000006, -118.348152], [35.789669, -78.515349], [42.59552, -83.16008000000002], [36.491248, -78.543424], [38.987077, -94.55174], [25.575462, -80.33166700000002], [29.688981, -82.439121], [34.030438000000004, -117.581799], [38.803749, -76.060191], [25.473288, -80.436255], [35.114736, -80.963154], [40.843256, -73.927623], [39.09433, -94.59049], [30.286586, -97.632071], [40.420859, -80.03160600000002], [44.961359, -93.211645], [25.687736, -80.36586899999998], [25.702151, -80.285318], [39.40094000000001, -76.66304000000002], [38.9316, -77.54095600000002], [37.501286, -80.11189499999998], [33.836531, -117.331097], [42.38977, -83.011315], [40.612892, -75.514093], [37.548064, -122.291312], [38.866582, -77.320813], [38.318419, -75.75886899999998], [35.47879000000001, -97.65433], [30.619621, -87.064543], [30.191173, -97.77261], [39.92397800000001, -75.147481], [32.138659999999994, -110.89008], [34.07181, -117.88365], [38.530341, -121.75085], [25.686835, -80.367106], [33.617223, -84.44900799999998], [27.8175, -82.66455], [46.727244, -113.674228], [45.189773, -93.544469], [38.64436, -90.34746], [44.7822, -123.03919], [39.130947, -94.567912], [35.874153, -78.541969], [40.760232, -111.93904], [34.0924, -80.892371], [39.704305, -86.104281], [34.15201, -118.14073], [37.554852, -76.463015], [45.13389, -93.2355], [33.638177, -112.210037], [40.771057, -73.566521], [36.779394, -119.682085], [33.446277, -111.890999], [42.941144, -85.64920500000002], [30.260078000000004, -97.693856], [38.255735, -122.064469], [38.978067, -77.418615], [41.796878, -124.154732], [37.518149, -77.426415], [32.837740000000004, -96.87542], [43.124695, -75.40645699999997], [40.225124, -74.17084100000002], [45.026983, -93.285845], [40.770751, -73.91785300000002], [42.076755, -122.602581], [29.52051, -98.486184], [40.662213, -73.51043299999998], [40.029062, -75.593115], [38.694423, -121.360256], [32.911840000000005, -96.9441], [34.06483, -81.04347], [34.23085, -118.39868], [41.792881, -87.58034599999998], [38.964384, -76.106378], [32.866401, -96.88192], [39.05223400000001, -76.627051], [39.204628, -76.63028100000002], [36.549315, -119.598789], [40.497836, -74.43565], [34.010455, -117.955236], [29.88815, -95.31985], [30.306246999999995, -81.883045], [33.953729, -81.092566], [37.892761, -122.064902], [34.922144, -82.094835], [41.678191, -112.141109], [37.261898, -121.799999], [44.978915, -92.959464], [34.069274, -117.607516], [38.93769, -104.81299], [38.90483, -77.016166], [33.917878, -84.291731], [35.218037, -80.81803599999998], [31.91222, -106.43261], [33.941477, -118.096579], [40.68257, -73.57204], [25.517983, -80.422774], [28.32306, -81.365165], [35.2823, -80.91955], [30.481637, -84.236846], [34.575364, -120.500777], [36.547404, -119.785963], [26.029153, -80.165261], [32.84148, -117.09517], [33.776317, -118.204125], [33.58017, -117.6716], [29.419243, -98.501861], [40.752958, -78.219748], [41.86968, -87.88883], [34.06607, -117.32598], [35.82431, -78.31458], [30.457511, -91.176652], [44.70244, -95.543132], [40.768062, -73.27975500000002], [47.145069, -122.508598], [34.3151, -117.47855], [29.898011, -95.427284], [28.474968, -81.396741], [30.42558, -91.159092], [48.919753, -115.086104], [33.461487, -112.08021], [33.8501, -117.875681], [36.792105, -76.163781], [34.899595, -82.337845], [40.765332, -74.069084], [34.05819, -118.25402], [28.429689, -81.407533], [37.03498, -76.35616999999998], [33.613886, -117.708569], [26.18131, -80.218659], [25.89788900000001, -80.186734], [29.502186, -98.399531], [33.87622, -118.15998], [45.55604, -122.67871], [39.27799, -76.5517], [37.974811, -122.318992], [37.432732, -121.012046], [33.808905, -118.287083], [38.867037, -77.048664], [33.788634, -84.39149], [37.55463, -77.669205], [38.866272, -77.05812399999998], [34.157569, -117.245301], [45.5357, -122.587478], [30.098966, -81.500025], [42.973789, -85.686499], [38.37229, -121.35774], [25.511322, -80.411281], [28.45165, -81.40056], [34.397581, -118.571909], [28.894479, -82.100538], [32.988015999999995, -80.082554], [44.161243, -121.258191], [34.493773, -118.280087], [33.8307, -117.94144], [36.928351, -119.894201], [40.03774, -76.104938], [34.13085, -117.92904], [37.495211, -121.951986], [45.254247, -121.18091], [34.65597, -84.98499], [38.623184, -121.410699], [27.38631, -82.50558199999998], [32.715270000000004, -117.11882], [35.23283, -80.8077], [39.3422, -76.39591], [38.794428, -77.148785], [32.719840999999995, -117.165614], [36.571944, -121.520556], [33.46237, -117.136584], [31.627452, -81.407873], [25.890731, -80.17389], [42.427278, -122.84956], [28.638956, -81.443607], [33.470690000000005, -111.88821000000002], [37.3412, -81.06068], [33.373778, -117.25361200000002], [37.70018, -121.77845], [40.30667, -74.304015], [35.022842, -85.198308], [39.106249, -94.739149], [37.521786, -122.266452], [27.870262, -82.326576], [38.876451, -76.998271], [39.475624, -75.65034], [28.5132, -81.35982], [38.67542, -121.07769], [45.385369, -118.997522], [28.57358, -81.37586999999998], [33.572848, -117.180805], [39.672, -111.45561], [40.946848, -78.617912], [40.82281, -73.88490999999998], [25.88975, -80.32381], [33.46224, -112.26], [38.872086, -76.981592], [43.02531, -87.92173000000004], [31.783709, -106.481453], [42.228387, -88.111413], [39.88192, -104.98746], [43.195848, -123.360717], [46.06324, -95.32305], [41.666745, -71.49138], [36.576333, -119.625878], [32.716570000000004, -117.12042], [45.13538, -122.84539], [33.79179, -117.83107], [41.633731, -90.914622], [25.784236, -80.20175], [45.540729, -122.562825], [43.093679, -77.640741], [34.066191, -117.479175], [35.753735, -78.652922], [25.815025, -80.26484], [33.981867, -118.140617], [41.757954, -72.652282], [47.653037, -122.18684], [45.803753, -95.510273], [40.35854000000001, -79.84997800000002], [25.883572, -80.212942], [39.648062, -121.873299], [36.84359, -76.131938], [43.060201, -83.699809], [36.052631, -86.894821], [37.833134, -122.482355], [36.818307, -81.552962], [28.553799, -81.28595], [32.92472, -96.78979], [32.809752, -117.152614], [27.496007, -82.621413], [42.57227, -71.42223], [34.297022, -118.161836], [38.41692000000001, -121.889902], [35.22831, -80.83046999999998], [32.866709, -96.896002], [44.782987, -93.459867], [25.685208, -80.422887], [45.832461, -119.763818], [33.796144, -84.394751], [37.289894, -77.431297], [35.399805, -119.398845], [38.745348, -121.059778], [38.0047, -121.216953], [34.863347999999995, -82.109873], [39.74037, -105.03228], [41.70698, -87.65294], [33.947418, -118.253046], [34.186019, -80.21686600000002], [44.83809, -123.00842], [28.45130300000001, -81.470828], [39.755105, -86.185462], [45.603851, -109.153579], [33.803127, -117.973459], [35.42078, -97.50808], [40.75573, -73.838484], [35.315481, -82.469964], [34.9015, -82.13694], [40.86326, -73.87169], [38.292664, -122.651399], [35.036827, -90.783644], [28.640949, -81.233719], [30.432269, -84.249511], [39.998058, -75.233212], [41.896351, -112.549341], [33.879870000000004, -117.65542], [34.117489, -117.84632], [35.16395, -80.95784], [38.42271, -121.48648], [48.74734, -122.46507], [45.44703, -122.57893], [33.705164, -117.854965], [35.184641, -85.24645100000002], [28.629243, -81.45068], [34.047178, -118.214596], [30.190702, -81.556926], [47.785269, -122.195876], [25.92731, -80.20665100000002], [25.729909, -80.317988], [32.13406, -110.93474], [36.83606, -76.15498000000002], [44.12876, -121.32308], [34.577638, -119.980166], [29.51874, -98.52187], [35.275846, -120.670992], [35.35861, -79.89365], [34.208003000000005, -118.849314], [45.457531, -122.784672], [41.56755, -87.33058], [25.8123, -80.24415], [42.43839000000001, -123.29442], [37.39872, -77.42434], [34.02867, -118.22995], [25.821842, -80.24884300000002], [45.363051, -118.27401299999998], [43.00256, -88.03815], [37.77755, -122.16705], [28.597404, -81.29762099999998], [32.725907, -117.170978], [38.785159, -121.17351200000002], [48.186432, -93.776861], [34.148958, -118.804181], [36.86198, -121.61209], [45.538751, -122.670051], [41.556741, -90.534605], [38.841289, -77.442993], [37.543004, -122.020249], [34.071639000000005, -118.110054], [32.83703, -97.06698], [42.916277, -85.540913], [43.253953, -77.75106099999998], [28.451919, -81.47081800000002], [35.09206, -85.32338100000003], [30.44976500000001, -97.696109], [25.782656, -80.359974], [40.61457100000001, -74.02802700000002], [33.214311, -87.57377], [40.550366, -75.42679100000002], [40.78406500000001, -73.65218399999998], [29.67117600000001, -95.551096], [33.940125, -117.291229], [38.671507, -121.895008], [43.060996, -83.704736], [42.997722, -83.722717], [32.074359, -81.246353], [38.641722, -77.28814100000002], [36.50363, -119.629043], [34.903551, -82.177868], [25.734651, -80.335876], [28.534556, -81.47570999999998], [37.54886, -77.41450999999998], [37.667008, -121.030194], [39.09847, -84.51951], [41.94595, -74.02579], [34.639515, -82.526609], [35.519345, -78.28942099999998], [40.11770300000001, -75.302642], [34.06446, -118.00388], [25.851534, -80.207789], [28.300706, -81.575299], [33.838532, -79.222778], [33.774519, -118.074915], [28.508409000000004, -81.397006], [44.062847, -123.057154], [26.367187, -81.766723], [34.244738, -118.422344], [40.739021, -122.314854], [42.42765, -82.926231], [38.800692, -90.62019], [45.035495, -92.90386], [32.790768, -96.599171], [38.704952, -77.22413399999998], [28.497159000000003, -81.444345], [35.887028, -78.627544], [41.367994, -72.158203], [42.27237, -88.19845], [39.235799, -76.83119], [37.86548300000001, -121.668046], [28.493792, -81.459929], [32.27619, -111.014474], [47.47778, -92.90297], [28.02722, -82.18061], [38.85895, -77.07007], [25.762079, -80.33516], [33.617470000000004, -84.398308], [34.504185, -111.725788], [39.40172800000001, -77.428135], [28.198502, -82.4644], [27.783956, -82.334861], [38.50022, -121.436532], [43.140145, -77.540935], [34.761382, -117.331185], [25.597525, -80.383379], [29.732855, -95.568617], [38.49675, -90.34485], [35.784541, -78.63623], [40.686224, -73.597208], [25.717728, -80.32006], [42.15297, -87.88374], [44.699224, -93.597556], [32.344623, -86.225187], [33.408461, -112.20738500000002], [32.271421999999994, -111.009714], [34.645879, -117.43488], [35.20753, -80.82146], [30.447445, -87.284777], [30.440372, -84.31262199999998], [32.807065, -96.792866], [33.92678, -116.94075], [41.71344000000001, -88.00674000000002], [41.232451, -77.01395600000002], [33.388382, -86.667917], [36.24814, -80.35291], [38.51446, -104.62933], [34.63539, -81.601456], [32.791919, -96.602713], [30.299883, -97.71667], [25.814272, -80.264813], [28.416492, -81.421657], [44.43297000000001, -121.958209], [35.986372, -79.976724], [25.884911, -80.204549], [37.508183, -76.952252], [33.76006, -117.86267], [38.807115, -77.49815799999998], [39.866826, -82.84891], [33.870459000000004, -78.626625], [36.88853, -121.747198], [42.42872, -87.91371], [37.256408, -122.116157], [42.24595, -121.86251], [33.474429, -112.11315], [38.475319, -121.820631], [43.164626, -77.63472900000002], [37.02283, -121.543555], [38.335164, -123.048203], [30.381081, -87.110679], [37.050515, -122.073292], [40.745624, -73.970262], [27.875339, -82.66204499999998], [30.350303000000004, -91.133546], [34.309862, -117.472761], [39.782559, -86.151263], [28.19128, -82.463226], [28.380034, -81.50494300000003], [30.251317, -85.934997], [37.744843, -121.597017], [36.77865, -120.040294], [41.1194, -73.37941], [33.093207, -87.673309], [33.13325, -97.04299], [33.940929, -118.300267], [34.017491, -117.985205], [41.96357, -91.874627], [36.134279, -119.064234], [38.599272, -112.256831], [44.97033, -93.33141], [35.011518, -81.64814799999998], [29.54257, -98.37465], [34.16924, -118.46793999999998], [35.77623300000001, -78.619552], [37.88180300000001, -122.524773], [39.067307, -94.508267], [37.471, -120.95816], [42.94462, -78.76643], [37.419761, -77.437118], [34.119726, -117.776924], [47.495554, -92.690484], [40.105722, -74.219284], [42.837569, -78.792878], [25.622997, -80.414597], [36.060315, -79.603296], [36.12947800000001, -78.627657], [41.223589, -96.003481], [42.40477, -83.14644], [42.350476, -87.85999100000002], [35.079083000000004, -82.098585], [26.162435, -80.162539], [41.87166, -88.59342], [41.212708, -73.80948000000002], [33.805608, -118.081539], [34.076295, -80.944649], [32.522207, -80.75030600000002], [39.444986, -76.30954399999997], [28.063801, -82.738764], [35.441643, -119.243507], [27.86440300000001, -82.34743900000002], [41.416539, -73.286553], [36.06602, -115.18918], [28.491466, -81.396739], [29.973705, -90.05590500000002], [40.85306, -73.96011], [39.332271, -76.487874], [38.939892, -77.38444399999999], [37.164196, -121.990605], [37.212591, -119.70898], [27.937827, -82.30623100000003], [41.267306, -76.913045], [38.985584, -94.776386], [28.450409000000004, -81.464801], [33.97867, -118.07803], [41.555451, -73.634079], [33.046875, -84.96462700000002], [29.80154000000001, -95.37191], [42.2935, -88.16066], [26.182748, -80.152419], [30.424603, -91.150836], [32.467335, -93.784416], [39.308144, -120.541716], [28.504042, -81.310142], [30.286876, -81.521877], [41.836677, -86.658192], [44.741713, -124.055775], [27.83934600000001, -82.758485], [36.859722, -121.576111], [27.90106, -82.40194], [32.159517, -81.433026], [25.823955, -80.239661], [34.079144, -118.227236], [33.949789, -118.170526], [36.571096, -121.91263700000002], [34.042975, -118.217073], [36.1605, -86.778448], [33.93828, -118.36855], [25.577361, -80.370664], [30.316383, -81.738281], [28.303889, -81.456979], [43.159742, -77.602972], [35.379094, -118.96444], [40.115899, -75.06599], [26.539890000000003, -81.839626], [32.191836, -110.825693], [30.243367, -84.312722], [25.77336, -80.35361400000002], [39.249313, -76.68028699999998], [28.512281, -81.39445400000002], [33.957985, -81.231865], [38.332403, -81.710933], [34.34728, -117.46886], [45.720222, -123.92337], [33.89993, -118.273962], [40.6753, -111.9022], [40.02664, -76.303547], [25.747394, -80.34733], [47.567966, -122.289262], [27.821094, -82.677818], [42.765086, -84.510902], [34.221381, -118.473302], [25.969338, -80.165531], [37.594806, -122.058284], [40.243624, -75.24045699999998], [32.90287, -96.72197], [35.498304, -82.51710899999998], [28.257628000000004, -81.49458100000003], [33.891063, -118.361306], [34.676678, -80.75652], [45.583852, -118.622721], [39.381086, -76.739592], [40.689121, -73.628987], [29.978679, -90.057744], [35.827134, -78.625191], [37.58822, -122.35755], [40.81759, -73.93078], [26.26943, -80.1258], [38.48709, -90.354266], [29.741445, -95.418725], [35.029589, -107.385128], [33.611871, -117.704535], [28.32347, -81.55453], [34.164276, -118.472781], [39.124299, -80.38602900000002], [37.260335, -121.799057], [40.80922, -73.212558], [26.582742, -81.87198000000002], [40.504374, -78.409157], [37.38676, -122.2649], [26.136671, -80.163947], [27.76259000000001, -82.66279499999997], [41.24625800000001, -73.092214], [35.257159, -81.027847], [43.169714, -77.60131], [43.001495, -78.94234200000002], [30.509302, -91.12064], [35.664343, -78.700469], [37.256288, -80.175669], [40.043857, -80.62632099999998], [39.811148, -86.03076300000002], [34.496646000000005, -118.623834], [37.181864, -77.492913], [33.609485, -117.700997], [40.060101, -76.32003], [35.690473, -81.848051], [38.734513, -122.144221], [35.121078999999995, -81.29276899999998], [45.541637, -122.477932], [32.928105, -86.654845], [45.776495, -93.647423], [40.847169, -73.234868], [25.685165, -80.419593], [27.220142, -82.490797], [33.96889, -117.32805], [43.710222, -122.297994], [34.325364, -118.503659], [25.627141, -80.383572], [25.644842, -80.33617], [42.38964, -73.82624], [30.558568, -91.139262], [37.550757, -122.293543], [44.4493, -117.33138], [38.41917, -77.42358], [33.927651000000004, -118.300316], [34.447783, -119.245482], [27.962061, -82.453261], [40.7546, -73.99915], [38.15013, -76.91774000000002], [40.869709, -111.389361], [41.83248, -71.41728], [32.735028, -96.668158], [36.82817, -76.19528000000003], [44.04569, -122.926819], [35.21561, -80.78075], [34.57775, -82.49580999999998], [25.886362, -80.186255], [37.681721, -121.104515], [29.269848, -98.688512], [41.126241, -73.810703], [25.76087, -80.40082], [32.668075, -116.261026], [33.687447, -117.874647], [26.544918, -81.83925], [32.77923, -117.06947], [37.8913, -122.06119], [36.433847, -78.401853], [33.998799, -117.92873], [34.729071999999995, -114.546266], [41.496895, -95.059643], [37.846473, -122.247501], [30.003544, -90.031617], [37.375155, -119.612395], [34.71, -82.24554300000001], [37.468116, -122.208123], [38.413763, -85.76518100000001], [46.156021, -94.103811], [36.174617, -96.010875], [41.24637, -73.08811999999998], [30.33838900000001, -81.539277], [36.859807, -79.478585], [40.74318, -74.15639], [36.841031, -119.678524], [39.889345, -104.98746], [34.270595, -118.488439], [40.042011, -76.390563], [25.747942, -80.304473], [38.295099, -122.475725], [39.98839, -82.98569], [36.850193, -80.86161899999998], [36.886501, -113.937093], [28.468563, -81.307338], [38.676069, -121.858044], [25.626145, -80.41645], [38.401017, -121.383305], [33.093275, -117.083714], [41.165286, -73.353195], [35.17966, -80.88669], [39.037068, -120.973528], [42.36474000000001, -83.06685999999998], [39.595874, -86.066583], [45.54037, -122.67141200000002], [32.78725900000001, -79.953631], [32.976011, -117.087918], [33.975293, -117.549015], [33.859316, -117.536319], [39.732494, -84.212122], [34.18415, -117.4343], [32.70103, -117.120877], [38.717281, -121.392417], [37.213169, -79.41684599999998], [33.811615, -118.010736], [28.005075, -82.742862], [34.137437, -118.229088], [32.27664, -90.178258], [31.217211, -81.52618199999998], [35.822028, -78.62289], [38.121461, -121.400428], [41.837637, -94.366849], [41.88051, -87.6462], [34.001301, -118.410054], [36.9237, -120.191028], [27.337471, -82.513965], [43.09588, -77.58188], [27.733541, -82.64080600000001], [40.822523, -73.957761], [38.665087, -121.215169], [44.96376, -92.68546], [42.347101, -87.902392], [38.994479, -76.888731], [35.353835, -119.041742], [29.93417100000001, -81.424314], [28.4493, -81.477791], [30.073702, -95.207729], [42.61959, -73.84013], [33.786975, -84.246287], [32.925674, -96.820041], [37.637346, -122.440234], [44.469849, -121.195848], [38.451151, -77.984718], [40.40072, -79.55501], [38.847611, -77.779282], [39.067223, -94.620409], [29.966243, -90.050967], [34.031220000000005, -118.274582], [25.635605, -80.39021], [30.368388, -83.246144], [34.135476000000004, -117.964764], [35.816382, -78.659959], [40.67948, -73.70213000000003], [26.332654, -81.806184], [37.002671, -76.319907], [40.74346, -74.17586999999997], [34.1198, -117.707096], [47.63066, -122.326268], [34.275664, -118.493429], [40.9148, -73.7829], [34.271796, -118.349071], [44.836982, -93.161584], [34.272446, -77.818764], [29.957627, -90.067962], [37.764645, -121.410691], [37.689258, -122.106008], [41.5195, -90.51301], [40.72296, -73.83614], [34.104748, -80.86621], [39.871785, -75.068816], [33.431674, -117.144592], [38.237292, -121.517739], [38.65077700000001, -121.272712], [36.706964, -119.636961], [30.435337, -91.17725], [34.433535, -119.279874], [25.784024, -80.23499], [37.532508, -78.653486], [40.012582, -75.72583], [25.929211, -80.209734], [32.706358, -117.136011], [28.33285, -81.47973], [36.058641, -79.086874], [30.494781, -87.22224399999998], [38.71402, -77.46507], [33.935351000000004, -118.088689], [37.471984, -122.295273], [39.958517, -76.723457], [34.838943, -82.551712], [38.711301, -104.725232], [26.652747, -80.06885], [32.82674, -97.06128], [25.614958, -80.377441], [42.263872, -88.178352], [33.140931, -97.247447], [30.534106, -87.092496], [25.565507, -80.461626], [41.207548, -73.096521], [28.493745, -81.396763], [38.43227, -120.568053], [41.73481, -72.66427], [32.745246, -117.13009], [29.51467, -98.40345], [35.964344, -119.288438], [33.891232, -117.554776], [36.576093, -119.629021], [39.815579, -104.95338999999998], [30.404053, -86.61322], [38.105447, -121.260091], [33.81013, -117.8321], [37.729395, -121.633486], [35.66587, -78.563575], [45.688351, -123.19635900000002], [28.192655, -82.39859799999998], [30.240487, -97.727333], [30.403257, -86.867377], [33.15463, -97.06352], [33.595751, -86.397868], [44.196083, -93.617555], [42.42756, -82.9265], [39.810868, -76.94511700000002], [32.128138, -110.879949], [27.943558000000003, -82.334008], [47.58755, -122.32023], [38.678452, -121.868419], [39.536479, -119.791413], [39.667122, -105.114486], [39.116839, -121.569799], [39.40655200000001, -75.66154399999998], [45.58757, -118.56516], [33.860024, -78.673847], [40.48702, -79.77886], [43.758266, -122.532349], [28.83274, -81.32245], [30.027918, -90.096266], [35.026226, -85.251839], [29.686076, -95.30075], [27.950318, -82.72529300000002], [26.080933, -80.138592], [40.023714, -76.30305], [40.662063, -74.184676], [36.788612, -121.674802], [41.690829, -74.077838], [37.70905, -121.080892], [35.13963, -118.446072], [32.746520000000004, -97.319933], [39.38345, -120.092353], [28.490739, -81.405181], [47.64924, -95.94873], [34.8568, -82.3599], [35.173727, -89.839507], [42.942971, -74.397025], [34.049495, -117.289493], [37.69812, -121.93979], [32.905761, -96.726852], [37.686692, -122.119033], [27.789962, -82.70140699999997], [37.701458, -122.471982], [33.948515, -117.301551], [39.54279, -104.9354], [25.769754, -80.330901], [34.689583, -82.992324], [37.43663, -113.23285], [33.98915, -118.281553], [33.77673, -117.84065], [30.299883, -97.71667], [34.167156, -118.158151], [40.154522, -74.349982], [40.462155, -80.03142199999998], [36.215297, -86.77539499999996], [28.29144, -80.74163], [41.14233, -73.27448000000003], [39.38785, -76.43985], [38.91691, -78.10634399999998], [34.67132, -86.757177], [37.669593, -122.393074], [38.662779, -121.764126], [39.897462, -104.987701], [40.200466, -122.20242], [25.92679200000001, -80.207233], [42.999479, -82.431514], [36.859324, -121.575734], [30.000578000000004, -95.163104], [25.902602, -80.258084], [36.147712, -86.839324], [25.942433, -80.306063], [37.41905, -121.9605], [40.00085900000001, -111.484553], [31.795362, -86.673686], [32.183791, -81.029461], [25.584993, -80.32532900000002], [30.289347, -81.983005], [33.906519, -84.432023], [38.95623300000001, -77.355276], [26.06029, -80.21533000000002], [34.035318, -118.329622], [27.463387, -82.66864], [39.431947, -76.33733000000002], [40.92247, -73.86119000000002], [33.972759, -117.332201], [38.456209, -121.406949], [39.33283, -77.698135], [39.39882, -76.55215], [34.489851, -81.836201], [38.57398900000001, -121.384491], [46.629329, -94.324076], [28.486885, -81.421978], [32.716673, -117.120105], [33.73021, -84.32323000000002], [29.674473, -95.56401], [34.801734, -82.225677], [40.115029, -83.01648], [38.939736, -94.567588], [33.36377, -111.9112], [30.416298, -97.574654], [32.724205, -96.826489], [36.142393, -95.922503], [46.767178, -92.120672], [37.813809, -122.361301], [32.93483, -96.75197], [34.1647, -117.891894], [43.05135300000001, -76.145628], [45.585393, -122.770777], [42.276035, -83.159312], [40.27553, -76.81744], [34.15573, -118.42777], [28.191342, -82.46350100000002], [40.143431, -111.64666], [34.081933, -117.710102], [40.787837, -73.938131], [34.818069, -118.902768], [29.730453000000004, -95.418935], [44.76615, -92.85842], [34.036982, -118.303155], [28.451475, -81.20138399999998], [44.08423, -123.0468], [26.188292, -80.168812], [36.070114, -86.722266], [30.328166, -97.694309], [33.80271, -84.38578199999998], [47.302826, -122.243725], [39.249011, -121.53884], [33.719862, -117.795249], [25.882785, -80.245746], [44.96688, -93.2201], [34.080478, -118.225629], [42.643075, -73.751357], [28.60049, -81.3862], [47.521122, -122.198381], [26.20368, -80.14365], [41.744999, -73.584446], [28.459757, -81.561921], [44.87996, -93.06096], [41.11810300000001, -74.153927], [44.965527, -93.280245], [42.90145, -122.298871], [34.317775, -80.863166], [34.936255, -81.995698], [30.386084000000004, -91.154513], [33.925069, -118.20989], [44.778905, -117.289645], [34.673325, -82.525276], [33.566772, -112.029784], [37.609428, -120.993582], [38.554962, -121.40444], [42.102577, -84.36393000000002], [39.15774, -94.587391], [33.9285, -118.282677], [40.000769, -111.483809], [37.253359, -76.64270400000002], [32.934983, -117.241555], [34.12069, -117.907707], [45.542439, -122.484029], [28.259419, -81.43619100000002], [29.960556, -95.424189], [34.226567, -118.387823], [43.135096, -77.628833], [28.397040000000004, -81.424187], [36.974223, -79.81306500000002], [37.510699, -120.87976299999998], [35.006974, -85.05455699999997], [39.828848, -122.367504], [41.038082, -111.938486], [25.831619, -80.22999200000002], [34.132659999999994, -117.50008], [25.828789, -80.322071], [44.862231, -93.252307], [37.677918, -121.913778], [35.20386, -80.78538], [29.77401, -95.253464], [34.050409, -117.93002], [35.893541, -78.560478], [34.818698, -82.2768], [38.29369000000001, -85.6588], [37.85272, -122.29991], [39.989494, -75.251423], [43.02842, -88.03123000000002], [27.725018, -80.909832], [28.4493, -81.477791], [32.7877, -117.113981], [33.941182, -118.096502], [29.654017, -82.495122], [42.49465, -82.94634], [37.496969, -122.235536], [33.78821, -84.39149], [44.952009, -93.04966], [30.087249, -83.530186], [40.08671, -75.12795], [33.041376, -117.141959], [26.96106, -80.17033599999998], [37.239419, -79.21566700000002], [26.37815, -80.17104], [38.79965, -90.63313], [34.166761, -119.141353], [28.552392, -81.448734], [32.272274, -110.935221], [45.497536, -122.60868899999998], [42.50989600000001, -83.583984], [36.070548, -78.480995], [32.692788, -111.084074], [43.070888, -83.668098], [36.614052, -76.37529], [30.53357, -87.27391999999998], [37.574361, -121.885236], [37.967467, -121.336114], [29.812287, -95.369688], [37.668962, -122.109399], [35.148442, -84.958821], [43.05897, -123.33996], [32.718692, -96.616776], [38.290502, -77.528138], [38.67422, -77.239125], [39.75864, -84.156196], [25.942296, -80.30827], [40.85898, -73.82712], [32.912906, -117.120302], [37.956609, -120.421543], [35.20279, -80.81692], [27.9416, -82.54824], [42.7622, -74.11532], [42.2791, -123.6161], [35.860167, -82.199107], [28.608001, -80.808337], [41.244649, -112.009442], [27.770071, -82.335107], [38.56738, -121.33321], [25.80633, -80.32522], [44.94698, -93.07916], [38.944789, -76.858089], [39.24814, -84.44634], [40.16164000000001, -111.64655], [42.807967, -117.717662], [25.925596, -80.279039], [33.872516999999995, -118.285087], [34.042952, -118.272653], [38.156047, -78.419528], [42.58012100000001, -83.738704], [40.015632, -75.61891], [37.68275300000001, -122.126304], [25.76655, -80.32065], [46.15792, -123.90464], [40.21937, -79.59179499999998], [38.87125, -77.04451], [28.651839, -81.234465], [39.99547000000001, -111.4683], [37.324038, -120.592261], [45.518343, -122.687194], [32.456547, -93.746048], [32.629775, -117.043942], [36.440867, -121.921859], [39.4016, -76.56798], [40.51181, -74.30119], [35.383459, -119.185673], [36.234766, -84.136714], [43.098587, -75.236988], [41.91693, -87.7559], [37.75549, -121.487382], [42.386842, -83.448882], [37.189817, -93.317637], [38.575224, -121.557214], [34.062096000000004, -117.193003], [48.432208, -122.341035], [40.694726, -73.847974], [27.66146, -82.435473], [38.216704, -122.603634], [40.180724, -76.53339], [37.53559, -122.07489], [39.997567, -74.862974], [38.644008, -78.884725], [35.756011, -78.601366], [45.36287700000001, -84.61184200000002], [37.972279, -121.085633], [34.061018, -118.247259], [38.657535, -121.327549], [33.37576, -82.03017], [40.419012, -111.875978], [39.17799, -84.39771], [37.672258, -121.272851], [38.880411, -77.39614399999998], [36.18227, -86.60798], [35.559729, -82.643398], [34.06566, -117.25639], [40.050686, -76.361336], [33.803801, -79.018546], [39.751529, -86.033181], [40.75327, -74.21083], [33.82195, -118.20685], [36.905228, -76.270512], [36.3555, -105.613904], [38.388107, -122.579412], [41.284299, -72.933044], [40.749253, -124.195108], [38.261887, -122.49384], [38.102746, -121.581848], [33.76685, -117.97599], [40.838833, -73.933178], [33.84669, -118.206482], [38.78493, -85.82479000000002], [44.47422, -117.34153], [29.951831, -95.557676], [45.60475, -94.44642], [27.87063, -82.664518], [37.235104, -122.145456], [27.606164, -82.497807], [32.724191, -117.15538], [26.682195, -81.897481], [26.25229, -80.16651999999998], [36.78606, -76.40619000000002], [36.958895, -76.41056400000002], [28.197154, -80.65925], [32.668162, -97.234835], [33.786402, -117.21984], [38.77441, -77.181905], [33.183377, -87.55774100000002], [40.187774, -74.576412], [34.013884000000004, -117.911975], [35.053897, -85.264358], [27.475952000000003, -82.57124499999998], [38.1405, -85.68786], [27.84475, -82.687531], [25.768185, -80.352991], [30.964812, -85.525449], [26.431179, -81.79069], [26.164726, -80.20489], [40.426524, -79.89301800000001], [42.038067, -73.98984899999998], [35.168919, -80.876021], [40.268357, -79.293962], [34.072068, -118.073092], [43.633809, -116.362699], [40.84466, -73.90265], [37.700464, -121.92564], [28.036086, -82.495998], [33.17923, -117.3479], [38.13646, -122.22191], [38.325113, -122.276914], [34.25972, -118.43807], [39.040048, -84.609528], [27.447751, -82.573305], [30.291221000000004, -81.521951], [37.71036, -122.46536], [29.70751, -95.10257], [39.311817, -76.744683], [40.93845200000001, -73.83878299999998], [28.180114, -80.625196], [34.875597, -82.43095799999998], [37.144629, -121.984716], [33.985240000000005, -117.345257], [25.641055, -80.41258499999998], [29.742705, -95.301644], [34.15201, -118.14073], [45.52981, -122.56582], [33.874784000000005, -118.14266299999998], [38.709352, -77.222413], [43.392363, -123.35763], [36.26224600000001, -86.712186], [47.664496, -122.322853], [35.10573, -89.87719], [34.05134, -117.963289], [34.134833, -117.498075], [44.45642, -113.24125], [27.196614, -80.399938], [40.244521, -75.29911899999998], [43.72507, -123.20537], [27.863204, -82.326679], [37.48917, -121.94378], [38.407839, -120.619267]],\n",
              "                {&quot;blur&quot;: 15, &quot;maxZoom&quot;: 18, &quot;minOpacity&quot;: 0.5, &quot;radius&quot;: 25}\n",
              "            ).addTo(map_858bd9554ab098be64cc4977c95191f1);\n",
              "        \n",
              "&lt;/script&gt;\n",
              "&lt;/html&gt;\" style=\"position:absolute;width:100%;height:100%;left:0;top:0;border:none !important;\" allowfullscreen webkitallowfullscreen mozallowfullscreen></iframe></div></div>"
            ]
          },
          "metadata": {},
          "execution_count": 61
        }
      ]
    },
    {
      "cell_type": "code",
      "source": [],
      "metadata": {
        "id": "JSFhb7tUb_bW"
      },
      "execution_count": null,
      "outputs": []
    },
    {
      "cell_type": "markdown",
      "source": [
        "Ask & answer questions\n",
        "Are there more accidents in warmer or colder areas?\n",
        "Which 5 states have the highest number of accidents? How about per capita?\n",
        "Does New York show up in the data? If yes, why is the count lower if this the most populated city.\n",
        "Among the top 100 cities in number of accidents, which states do they belong to most frequently.\n",
        "What time of the day are accidents most frequent in? - ANSWERED\n",
        "Which days of the week have the most accidents?\n",
        "Which months have the most accidents?\n",
        "What is the trend of accidents year over year (decreasing/increasing?)\n",
        "When is accidents per unit of traffic the highest."
      ],
      "metadata": {
        "id": "3GV_6_XEB0mE"
      }
    },
    {
      "cell_type": "code",
      "source": [],
      "metadata": {
        "id": "ZvFi_s6lBwhF"
      },
      "execution_count": null,
      "outputs": []
    },
    {
      "cell_type": "code",
      "source": [],
      "metadata": {
        "id": "Q7DbxArtBwes"
      },
      "execution_count": null,
      "outputs": []
    },
    {
      "cell_type": "code",
      "source": [],
      "metadata": {
        "id": "Ov4-g6LIBwcC"
      },
      "execution_count": null,
      "outputs": []
    },
    {
      "cell_type": "code",
      "source": [],
      "metadata": {
        "id": "FzwLVaRkBwZl"
      },
      "execution_count": null,
      "outputs": []
    },
    {
      "cell_type": "markdown",
      "source": [
        "Summary and Conclusion"
      ],
      "metadata": {
        "id": "PQVw_SU0B9fm"
      }
    },
    {
      "cell_type": "code",
      "source": [],
      "metadata": {
        "id": "8AMmUxa_BwUj"
      },
      "execution_count": null,
      "outputs": []
    },
    {
      "cell_type": "code",
      "source": [],
      "metadata": {
        "id": "FYJFuOIABwSA"
      },
      "execution_count": null,
      "outputs": []
    },
    {
      "cell_type": "markdown",
      "source": [],
      "metadata": {
        "id": "VlvopMSuCE2i"
      }
    },
    {
      "cell_type": "code",
      "source": [],
      "metadata": {
        "id": "-SE3SJDYBwPX"
      },
      "execution_count": null,
      "outputs": []
    },
    {
      "cell_type": "code",
      "source": [],
      "metadata": {
        "id": "XXJqCe4_BwNB"
      },
      "execution_count": null,
      "outputs": []
    },
    {
      "cell_type": "code",
      "source": [],
      "metadata": {
        "id": "0GBN4bh8BwJ-"
      },
      "execution_count": null,
      "outputs": []
    },
    {
      "cell_type": "code",
      "source": [],
      "metadata": {
        "id": "H8pSfZS6BwHf"
      },
      "execution_count": null,
      "outputs": []
    },
    {
      "cell_type": "code",
      "source": [],
      "metadata": {
        "id": "ID7VBb75BwBL"
      },
      "execution_count": null,
      "outputs": []
    },
    {
      "cell_type": "code",
      "source": [],
      "metadata": {
        "id": "kKObDc65Bv1p"
      },
      "execution_count": null,
      "outputs": []
    }
  ],
  "metadata": {
    "kernelspec": {
      "display_name": "Python 3",
      "language": "python",
      "name": "python3"
    },
    "language_info": {
      "codemirror_mode": {
        "name": "ipython",
        "version": 3
      },
      "file_extension": ".py",
      "mimetype": "text/x-python",
      "name": "python",
      "nbconvert_exporter": "python",
      "pygments_lexer": "ipython3",
      "version": "3.7.6"
    },
    "colab": {
      "provenance": [],
      "include_colab_link": true
    }
  },
  "nbformat": 4,
  "nbformat_minor": 0
}